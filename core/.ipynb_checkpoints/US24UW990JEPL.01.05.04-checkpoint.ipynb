{
 "cells": [
  {
   "cell_type": "markdown",
   "id": "5dd1515a-05f6-44f5-b334-1ac51dc762fc",
   "metadata": {
    "ExecuteTime": {
     "end_time": "2025-03-03T17:31:22.543499Z",
     "start_time": "2025-03-03T17:31:22.541574Z"
    }
   },
   "source": [
    "# US24UW990.01.05.04\n",
    "\n",
    "This iscript was developed to identify these collumns that are responsable for the duplicated key.\n",
    "\n",
    "If things makes sense, the col implying conflict must be related to date of record.\n",
    "\n",
    "Once you know what columns are the source of conflict, you need to decide which rows to keep in each columns. Ths demmo script is useful to investigate variability among records and decide which record to keep."
   ]
  },
  {
   "cell_type": "code",
   "execution_count": 69,
   "id": "21d61467-f597-4702-935b-de3852ae4fe3",
   "metadata": {
    "ExecuteTime": {
     "end_time": "2025-03-03T20:45:39.230971Z",
     "start_time": "2025-03-03T20:45:37.167992Z"
    }
   },
   "outputs": [],
   "source": [
    "import US24UW990JEPL_01\n",
    "import matplotlib.pyplot as plt\n",
    "import numpy as np\n",
    "import pandas as pd"
   ]
  },
  {
   "cell_type": "code",
   "execution_count": 5,
   "id": "fe827a8e-e62e-472c-87da-e4d572e9504a",
   "metadata": {},
   "outputs": [],
   "source": [
    "# Variables.\n",
    "t = 1\n",
    "\n",
    "if t:\n",
    "    f4u = 'US24UW990JEPL.01.05.03_test_pdf4u.txt'\n",
    "    f4nu = 'US24UW990JEPL.01.05.03_test_pdf4nu.txt'\n",
    "    f5u = 'US24UW990JEPL.01.05.03_test_pdf5u.txt'\n",
    "    f5nu = 'US24UW990JEPL.01.05.03_test_pdf5nu.txt'\n",
    "elif t == 0:\n",
    "    f4u = 'US24UW990JEPL.01.05.03_impl_pdf4u.txt'\n",
    "    f4nu = 'US24UW990JEPL.01.05.03_impl_pdf4nu.txt'\n",
    "    f5u = 'US24UW990JEPL.01.05.03_impl_pdf5u.txt'\n",
    "    f5nu = 'US24UW990JEPL.01.05.03_impl_pdf5nu.txt'\n",
    "else:\n",
    "    raise AssertionError(\"Please brosito..., t is 0 or 1 w/o exception\")\n",
    "    "
   ]
  },
  {
   "cell_type": "code",
   "execution_count": 6,
   "id": "81eca119-c4f3-4b5f-a274-9ba1f24a9b33",
   "metadata": {
    "scrolled": true
   },
   "outputs": [
    {
     "name": "stdout",
     "output_type": "stream",
     "text": [
      "Initialization: \n",
      "\n",
      "Code ipykernel_launcher.py starts. \n",
      "Codes executed when testing is 1. \n",
      "Running program in /blue/mateescu/agustinchasco/Projects/reprojersey/core. \n",
      "Reading data in /blue/mateescu/agustinchasco/Projects/reprojersey/data. \n",
      "Saving data in /blue/mateescu/agustinchasco/Projects/reprojersey/data. \n",
      "Time profiling starts. Program executed on 03-20-2025 at 09:57 AM EST.\n",
      "\n",
      "Path `/blue/mateescu/agustinchasco/Projects/reprojersey/data/ipykernel_launcher/test` already exists. \n",
      "\n"
     ]
    }
   ],
   "source": [
    "init = US24UW990JEPL_01.Initializer('/blue/mateescu/agustinchasco/Projects/reprojersey/data',\n",
    "                                    '/blue/mateescu/agustinchasco/Projects/reprojersey/core',\n",
    "                                    t)\n",
    "\n",
    "# Creates directory if not present.\n",
    "init.Directories()\n",
    "\n",
    "# Initialize format mappers.\n",
    "init.GetFormatMap()"
   ]
  },
  {
   "cell_type": "code",
   "execution_count": 7,
   "id": "aa23ac15-b69a-4248-9aef-a19aa6155678",
   "metadata": {},
   "outputs": [
    {
     "name": "stdout",
     "output_type": "stream",
     "text": [
      "Initializing paths. \n",
      "\n"
     ]
    }
   ],
   "source": [
    "print('Initializing paths. \\n')\n",
    "pthf4u = init.TargetPath(f4u)\n",
    "pthf4nu = init.TargetPath(f4nu)\n",
    "pthf5u = init.TargetPath(f5u)\n",
    "pthf5nu = init.TargetPath(f5nu)"
   ]
  },
  {
   "cell_type": "code",
   "execution_count": 8,
   "id": "d6a22799-51f2-4c72-801a-fbcb151684d2",
   "metadata": {},
   "outputs": [
    {
     "name": "stdout",
     "output_type": "stream",
     "text": [
      "Reading data in US24UW990JEPL.01.05.03_test_pdf4nu.txt ... \n",
      "\n",
      "Reading data in US24UW990JEPL.01.05.03_test_pdf5nu.txt ... \n",
      "\n"
     ]
    }
   ],
   "source": [
    "print(f'Reading data in {f4nu} ... \\n')\n",
    "f4nu = init.TXT_reader(pthf4nu, 4)\n",
    "print(f'Reading data in {f5nu} ... \\n')\n",
    "f5nu = init.TXT_reader(pthf5nu, 5)"
   ]
  },
  {
   "cell_type": "code",
   "execution_count": 9,
   "id": "8ec3f660-e122-4e68-bd9b-2401d9650f41",
   "metadata": {},
   "outputs": [
    {
     "name": "stdout",
     "output_type": "stream",
     "text": [
      "Initialize data container. \n",
      "\n"
     ]
    }
   ],
   "source": [
    "print('Initialize data container. \\n')\n",
    "pdf = US24UW990JEPL_01.DataContainer(f4nu=f4nu, f5nu=f5nu)"
   ]
  },
  {
   "cell_type": "code",
   "execution_count": 10,
   "id": "10b8ffa6-70e2-4352-840a-b449a775b928",
   "metadata": {},
   "outputs": [
    {
     "name": "stdout",
     "output_type": "stream",
     "text": [
      "f4nu: <class 'pandas.core.frame.DataFrame'> with shape (13320, 314) \n",
      "\n",
      "f5nu: <class 'pandas.core.frame.DataFrame'> with shape (16744, 336) \n",
      "\n"
     ]
    }
   ],
   "source": [
    "pdf.Show_Datasets()"
   ]
  },
  {
   "cell_type": "code",
   "execution_count": 11,
   "id": "d1523c80-c2c1-4fb8-9b0e-a3cb9fe1fa9e",
   "metadata": {
    "scrolled": true
   },
   "outputs": [
    {
     "data": {
      "text/html": [
       "<div>\n",
       "<style scoped>\n",
       "    .dataframe tbody tr th:only-of-type {\n",
       "        vertical-align: middle;\n",
       "    }\n",
       "\n",
       "    .dataframe tbody tr th {\n",
       "        vertical-align: top;\n",
       "    }\n",
       "\n",
       "    .dataframe thead th {\n",
       "        text-align: right;\n",
       "    }\n",
       "</style>\n",
       "<table border=\"1\" class=\"dataframe\">\n",
       "  <thead>\n",
       "    <tr style=\"text-align: right;\">\n",
       "      <th></th>\n",
       "      <th>X1</th>\n",
       "      <th>X2</th>\n",
       "      <th>X3</th>\n",
       "      <th>X4</th>\n",
       "      <th>X5</th>\n",
       "      <th>X6</th>\n",
       "      <th>X7</th>\n",
       "      <th>X8</th>\n",
       "      <th>X9</th>\n",
       "      <th>X10</th>\n",
       "      <th>...</th>\n",
       "      <th>X305</th>\n",
       "      <th>X306</th>\n",
       "      <th>X307</th>\n",
       "      <th>X308</th>\n",
       "      <th>X309</th>\n",
       "      <th>X310</th>\n",
       "      <th>X311</th>\n",
       "      <th>X312</th>\n",
       "      <th>X313</th>\n",
       "      <th>X314</th>\n",
       "    </tr>\n",
       "  </thead>\n",
       "  <tbody>\n",
       "    <tr>\n",
       "      <th>0</th>\n",
       "      <td>0</td>\n",
       "      <td>F</td>\n",
       "      <td>JE</td>\n",
       "      <td>840</td>\n",
       "      <td>003000953289</td>\n",
       "      <td></td>\n",
       "      <td></td>\n",
       "      <td></td>\n",
       "      <td></td>\n",
       "      <td></td>\n",
       "      <td>...</td>\n",
       "      <td></td>\n",
       "      <td></td>\n",
       "      <td></td>\n",
       "      <td></td>\n",
       "      <td></td>\n",
       "      <td></td>\n",
       "      <td></td>\n",
       "      <td></td>\n",
       "      <td></td>\n",
       "      <td></td>\n",
       "    </tr>\n",
       "    <tr>\n",
       "      <th>1</th>\n",
       "      <td>0</td>\n",
       "      <td>F</td>\n",
       "      <td>JE</td>\n",
       "      <td>840</td>\n",
       "      <td>003000953289</td>\n",
       "      <td>JE</td>\n",
       "      <td>USA</td>\n",
       "      <td>000000085UNK</td>\n",
       "      <td></td>\n",
       "      <td></td>\n",
       "      <td>...</td>\n",
       "      <td>0</td>\n",
       "      <td>0</td>\n",
       "      <td>0</td>\n",
       "      <td>0</td>\n",
       "      <td>00</td>\n",
       "      <td>000</td>\n",
       "      <td>0000</td>\n",
       "      <td>00</td>\n",
       "      <td>00</td>\n",
       "      <td>00</td>\n",
       "    </tr>\n",
       "    <tr>\n",
       "      <th>2</th>\n",
       "      <td>0</td>\n",
       "      <td>F</td>\n",
       "      <td>JE</td>\n",
       "      <td>840</td>\n",
       "      <td>003001226003</td>\n",
       "      <td>JE</td>\n",
       "      <td>USA</td>\n",
       "      <td>000067332021</td>\n",
       "      <td>JE</td>\n",
       "      <td>840</td>\n",
       "      <td>...</td>\n",
       "      <td>0</td>\n",
       "      <td>0</td>\n",
       "      <td>0</td>\n",
       "      <td>0</td>\n",
       "      <td>00</td>\n",
       "      <td>000</td>\n",
       "      <td>0000</td>\n",
       "      <td>00</td>\n",
       "      <td>00</td>\n",
       "      <td>00</td>\n",
       "    </tr>\n",
       "    <tr>\n",
       "      <th>3</th>\n",
       "      <td>0</td>\n",
       "      <td>F</td>\n",
       "      <td>JE</td>\n",
       "      <td>840</td>\n",
       "      <td>003001226003</td>\n",
       "      <td>JE</td>\n",
       "      <td>USA</td>\n",
       "      <td>000067332021</td>\n",
       "      <td>JE</td>\n",
       "      <td>840</td>\n",
       "      <td>...</td>\n",
       "      <td>0</td>\n",
       "      <td>0</td>\n",
       "      <td>0</td>\n",
       "      <td>0</td>\n",
       "      <td>00</td>\n",
       "      <td>000</td>\n",
       "      <td>0000</td>\n",
       "      <td>00</td>\n",
       "      <td>00</td>\n",
       "      <td>00</td>\n",
       "    </tr>\n",
       "    <tr>\n",
       "      <th>4</th>\n",
       "      <td>0</td>\n",
       "      <td>F</td>\n",
       "      <td>JE</td>\n",
       "      <td>840</td>\n",
       "      <td>003001226402</td>\n",
       "      <td>JE</td>\n",
       "      <td>DNK</td>\n",
       "      <td>000000302595</td>\n",
       "      <td>JE</td>\n",
       "      <td>840</td>\n",
       "      <td>...</td>\n",
       "      <td>0</td>\n",
       "      <td>0</td>\n",
       "      <td>0</td>\n",
       "      <td>0</td>\n",
       "      <td>00</td>\n",
       "      <td>000</td>\n",
       "      <td>0000</td>\n",
       "      <td>00</td>\n",
       "      <td>00</td>\n",
       "      <td>00</td>\n",
       "    </tr>\n",
       "  </tbody>\n",
       "</table>\n",
       "<p>5 rows × 314 columns</p>\n",
       "</div>"
      ],
      "text/plain": [
       "  X1 X2  X3   X4            X5  X6   X7            X8  X9  X10  ... X305 X306  \\\n",
       "0  0  F  JE  840  003000953289                                  ...             \n",
       "1  0  F  JE  840  003000953289  JE  USA  000000085UNK           ...    0    0   \n",
       "2  0  F  JE  840  003001226003  JE  USA  000067332021  JE  840  ...    0    0   \n",
       "3  0  F  JE  840  003001226003  JE  USA  000067332021  JE  840  ...    0    0   \n",
       "4  0  F  JE  840  003001226402  JE  DNK  000000302595  JE  840  ...    0    0   \n",
       "\n",
       "  X307 X308 X309 X310  X311 X312 X313 X314  \n",
       "0                                           \n",
       "1    0    0   00  000  0000   00   00   00  \n",
       "2    0    0   00  000  0000   00   00   00  \n",
       "3    0    0   00  000  0000   00   00   00  \n",
       "4    0    0   00  000  0000   00   00   00  \n",
       "\n",
       "[5 rows x 314 columns]"
      ]
     },
     "execution_count": 11,
     "metadata": {},
     "output_type": "execute_result"
    }
   ],
   "source": [
    "pdf.f4nu.head()"
   ]
  },
  {
   "cell_type": "code",
   "execution_count": 10,
   "id": "febd8819-ac55-40a2-94e5-3dc11642e3d4",
   "metadata": {
    "scrolled": true
   },
   "outputs": [
    {
     "data": {
      "text/html": [
       "<div>\n",
       "<style scoped>\n",
       "    .dataframe tbody tr th:only-of-type {\n",
       "        vertical-align: middle;\n",
       "    }\n",
       "\n",
       "    .dataframe tbody tr th {\n",
       "        vertical-align: top;\n",
       "    }\n",
       "\n",
       "    .dataframe thead th {\n",
       "        text-align: right;\n",
       "    }\n",
       "</style>\n",
       "<table border=\"1\" class=\"dataframe\">\n",
       "  <thead>\n",
       "    <tr style=\"text-align: right;\">\n",
       "      <th></th>\n",
       "      <th>X1</th>\n",
       "      <th>X2</th>\n",
       "      <th>X3</th>\n",
       "      <th>X4</th>\n",
       "      <th>X5</th>\n",
       "      <th>X6</th>\n",
       "      <th>X7</th>\n",
       "      <th>X8</th>\n",
       "      <th>X9</th>\n",
       "      <th>X10</th>\n",
       "      <th>...</th>\n",
       "      <th>X327</th>\n",
       "      <th>X328</th>\n",
       "      <th>X329</th>\n",
       "      <th>X330</th>\n",
       "      <th>X331</th>\n",
       "      <th>X332</th>\n",
       "      <th>X333</th>\n",
       "      <th>X334</th>\n",
       "      <th>X335</th>\n",
       "      <th>X336</th>\n",
       "    </tr>\n",
       "  </thead>\n",
       "  <tbody>\n",
       "    <tr>\n",
       "      <th>0</th>\n",
       "      <td>0</td>\n",
       "      <td>F</td>\n",
       "      <td>JE</td>\n",
       "      <td>000</td>\n",
       "      <td>000000000000</td>\n",
       "      <td></td>\n",
       "      <td></td>\n",
       "      <td></td>\n",
       "      <td></td>\n",
       "      <td></td>\n",
       "      <td>...</td>\n",
       "      <td></td>\n",
       "      <td></td>\n",
       "      <td></td>\n",
       "      <td></td>\n",
       "      <td></td>\n",
       "      <td></td>\n",
       "      <td></td>\n",
       "      <td></td>\n",
       "      <td></td>\n",
       "      <td></td>\n",
       "    </tr>\n",
       "    <tr>\n",
       "      <th>1</th>\n",
       "      <td>0</td>\n",
       "      <td>F</td>\n",
       "      <td>JE</td>\n",
       "      <td>000</td>\n",
       "      <td>000000000000</td>\n",
       "      <td>JE</td>\n",
       "      <td>USA</td>\n",
       "      <td>000112755267</td>\n",
       "      <td></td>\n",
       "      <td></td>\n",
       "      <td>...</td>\n",
       "      <td></td>\n",
       "      <td></td>\n",
       "      <td></td>\n",
       "      <td></td>\n",
       "      <td></td>\n",
       "      <td></td>\n",
       "      <td></td>\n",
       "      <td></td>\n",
       "      <td></td>\n",
       "      <td></td>\n",
       "    </tr>\n",
       "    <tr>\n",
       "      <th>2</th>\n",
       "      <td>0</td>\n",
       "      <td>F</td>\n",
       "      <td>JE</td>\n",
       "      <td>000</td>\n",
       "      <td>000000000000</td>\n",
       "      <td>JE</td>\n",
       "      <td>USA</td>\n",
       "      <td>000000093UNK</td>\n",
       "      <td></td>\n",
       "      <td></td>\n",
       "      <td>...</td>\n",
       "      <td></td>\n",
       "      <td></td>\n",
       "      <td></td>\n",
       "      <td></td>\n",
       "      <td></td>\n",
       "      <td></td>\n",
       "      <td></td>\n",
       "      <td></td>\n",
       "      <td></td>\n",
       "      <td></td>\n",
       "    </tr>\n",
       "    <tr>\n",
       "      <th>3</th>\n",
       "      <td>0</td>\n",
       "      <td>F</td>\n",
       "      <td>JE</td>\n",
       "      <td>000</td>\n",
       "      <td>000000000000</td>\n",
       "      <td>JE</td>\n",
       "      <td>USA</td>\n",
       "      <td>000000093UNK</td>\n",
       "      <td></td>\n",
       "      <td></td>\n",
       "      <td>...</td>\n",
       "      <td>406190HO00190HO00</td>\n",
       "      <td>40</td>\n",
       "      <td>619</td>\n",
       "      <td>0HO00190HO00</td>\n",
       "      <td>406190HO00190HO00</td>\n",
       "      <td>406190H</td>\n",
       "      <td>O00190HO00</td>\n",
       "      <td>O00</td>\n",
       "      <td>19</td>\n",
       "      <td>0HO00</td>\n",
       "    </tr>\n",
       "    <tr>\n",
       "      <th>4</th>\n",
       "      <td>0</td>\n",
       "      <td>F</td>\n",
       "      <td>JE</td>\n",
       "      <td>000</td>\n",
       "      <td>000000000000</td>\n",
       "      <td>JE</td>\n",
       "      <td>USA</td>\n",
       "      <td>000000093UNK</td>\n",
       "      <td></td>\n",
       "      <td></td>\n",
       "      <td>...</td>\n",
       "      <td></td>\n",
       "      <td></td>\n",
       "      <td></td>\n",
       "      <td></td>\n",
       "      <td></td>\n",
       "      <td></td>\n",
       "      <td></td>\n",
       "      <td></td>\n",
       "      <td></td>\n",
       "      <td></td>\n",
       "    </tr>\n",
       "  </tbody>\n",
       "</table>\n",
       "<p>5 rows × 336 columns</p>\n",
       "</div>"
      ],
      "text/plain": [
       "  X1 X2  X3   X4            X5  X6   X7            X8  X9  X10  ...  \\\n",
       "0  0  F  JE  000  000000000000                                  ...   \n",
       "1  0  F  JE  000  000000000000  JE  USA  000112755267           ...   \n",
       "2  0  F  JE  000  000000000000  JE  USA  000000093UNK           ...   \n",
       "3  0  F  JE  000  000000000000  JE  USA  000000093UNK           ...   \n",
       "4  0  F  JE  000  000000000000  JE  USA  000000093UNK           ...   \n",
       "\n",
       "                X327 X328 X329          X330               X331     X332  \\\n",
       "0                                                                          \n",
       "1                                                                          \n",
       "2                                                                          \n",
       "3  406190HO00190HO00   40  619  0HO00190HO00  406190HO00190HO00  406190H   \n",
       "4                                                                          \n",
       "\n",
       "         X333 X334 X335   X336  \n",
       "0                               \n",
       "1                               \n",
       "2                               \n",
       "3  O00190HO00  O00   19  0HO00  \n",
       "4                               \n",
       "\n",
       "[5 rows x 336 columns]"
      ]
     },
     "execution_count": 10,
     "metadata": {},
     "output_type": "execute_result"
    }
   ],
   "source": [
    "pdf.f5nu.head()"
   ]
  },
  {
   "cell_type": "code",
   "execution_count": 12,
   "id": "9ef5a938-6ad6-4ef4-8977-d8bd5812dac3",
   "metadata": {},
   "outputs": [],
   "source": [
    "set_key = ['X3', 'X4', 'X5', 'X35']\n",
    "pdf.SetKey(['f4nu', 'f5nu'], set_key)"
   ]
  },
  {
   "cell_type": "code",
   "execution_count": 13,
   "id": "736ef972-649c-4a5b-afff-c0f40e68b4c0",
   "metadata": {},
   "outputs": [
    {
     "data": {
      "text/plain": [
       "0    JE84000300095328920090828\n",
       "1    JE84000300095328920090828\n",
       "2    JE84000300122600320160423\n",
       "3    JE84000300122600320160423\n",
       "4    JE84000300122640220170525\n",
       "Name: Key, dtype: object"
      ]
     },
     "execution_count": 13,
     "metadata": {},
     "output_type": "execute_result"
    }
   ],
   "source": [
    "key = 'Key'\n",
    "pdf.f4nu.head()[key]"
   ]
  },
  {
   "cell_type": "code",
   "execution_count": 14,
   "id": "0003ef89-0897-43e5-84b9-2ab9d9c3d9ba",
   "metadata": {
    "scrolled": true
   },
   "outputs": [
    {
     "data": {
      "text/plain": [
       "0    JE00000000000000020120216\n",
       "1    JE00000000000000020120216\n",
       "2    JE00000000000000020120216\n",
       "3    JE00000000000000020120216\n",
       "4    JE00000000000000020120216\n",
       "Name: Key, dtype: object"
      ]
     },
     "execution_count": 14,
     "metadata": {},
     "output_type": "execute_result"
    }
   ],
   "source": [
    "pdf.f5nu.head()[key]"
   ]
  },
  {
   "cell_type": "markdown",
   "id": "ed111b85-12f3-4057-adbb-460a1c6799a0",
   "metadata": {},
   "source": [
    "# First approach:\n",
    "\n",
    "Concatenate $col_{key} + col_j$ and estimate the number of duplications in each possible pairwise concatenation.\n",
    "If one concatenation allows a drastic reduction in duplications, this $col_j$ column is responsable for a lot of conflicts, and by analyzing and solving whatever is going on in these column, you may recover a lot of data."
   ]
  },
  {
   "cell_type": "markdown",
   "id": "3a4faa92-8aac-4174-a916-c6fd49c8a2a1",
   "metadata": {},
   "source": [
    "# Format 4"
   ]
  },
  {
   "cell_type": "markdown",
   "id": "551066cb-896f-494a-8528-84d03f9aebfd",
   "metadata": {},
   "source": [
    "I know all rows in this file have duplicated key. Just testing if things make sense."
   ]
  },
  {
   "cell_type": "markdown",
   "id": "5b14e7f5-85e3-4f60-aba4-3b24cb15919d",
   "metadata": {},
   "source": [
    "**General idea:** quantify duplications in each pairwise concatenation between `key` and other column not in key."
   ]
  },
  {
   "cell_type": "code",
   "execution_count": 15,
   "id": "3f25c80e-df14-4de4-a204-69464ec298d0",
   "metadata": {},
   "outputs": [
    {
     "name": "stdout",
     "output_type": "stream",
     "text": [
      "j_key + \"_\" + j = Key_X1, ndu = 13320 \n",
      "\n",
      "j_key + \"_\" + j = Key_X2, ndu = 13320 \n",
      "\n",
      "j_key + \"_\" + j = Key_X6, ndu = 13264 \n",
      "\n",
      "j_key + \"_\" + j = Key_X7, ndu = 13255 \n",
      "\n"
     ]
    }
   ],
   "source": [
    "key = 'Key'\n",
    "f4cols = list(pdf.f4nu.columns)\n",
    "f4cols.remove(key)\n",
    "f4cols = [col for col in f4cols if col not in set_key]\n",
    "stp = 0\n",
    "for j in f4cols:\n",
    "    cnc = pdf.f4nu[key] + pdf.f4nu[j]\n",
    "    ndu = int(sum(cnc.value_counts().values[cnc.value_counts().values > 1]))\n",
    "    print(f'j_key + \"_\" + j = {key + \"_\" + j}, ndu = {ndu} \\n')\n",
    "    stp += 1\n",
    "    if stp == 4:\n",
    "        break"
   ]
  },
  {
   "cell_type": "markdown",
   "id": "0caebdfc-10f7-42b2-b140-8b402d2205f8",
   "metadata": {},
   "source": [
    "Simplify output."
   ]
  },
  {
   "cell_type": "code",
   "execution_count": 16,
   "id": "64f4632a-a8cc-4c95-a54b-576ea8baab23",
   "metadata": {
    "tags": []
   },
   "outputs": [
    {
     "name": "stdout",
     "output_type": "stream",
     "text": [
      "(0, 'X1', 13320)\n",
      "(1, 'X2', 13320)\n",
      "(2, 'X6', 13264)\n",
      "(3, 'X7', 13255)\n"
     ]
    }
   ],
   "source": [
    "f4cols = list(pdf.f4nu.columns)\n",
    "f4cols.remove(key)\n",
    "f4cols = [col for col in f4cols if col not in set_key]\n",
    "stp = 0\n",
    "trck = 0\n",
    "for j in f4cols:\n",
    "    cnc = pdf.f4nu[key] + pdf.f4nu[j]\n",
    "    ndu = int(sum(cnc.value_counts().values[cnc.value_counts().values > 1]))\n",
    "    print((trck, j, ndu))\n",
    "    stp += 1\n",
    "    trck += 1\n",
    "    if stp == 4:\n",
    "        break"
   ]
  },
  {
   "cell_type": "code",
   "execution_count": 17,
   "id": "eb69736f-7770-4f7f-9aa3-c10540889225",
   "metadata": {
    "tags": []
   },
   "outputs": [],
   "source": [
    "n4 = pdf.f4nu.shape[0]\n",
    "f4cols = list(pdf.f4nu.columns)\n",
    "f4cols.remove(key)\n",
    "f4cols = [col for col in f4cols if col not in set_key]\n",
    "map4l = []\n",
    "trck = 0\n",
    "for j in f4cols:\n",
    "    cnc = pdf.f4nu[key] + pdf.f4nu[j]\n",
    "    ndu = 100*int(sum(cnc.value_counts().values[cnc.value_counts().values == 1]))/n4\n",
    "    map4l.append((trck, j, ndu))\n",
    "    trck += 1"
   ]
  },
  {
   "cell_type": "code",
   "execution_count": 17,
   "id": "fc81b557-4c5e-4c18-8e62-a1b3c2d52f6d",
   "metadata": {
    "tags": []
   },
   "outputs": [
    {
     "data": {
      "text/plain": [
       "[(0, 'X1', 0.0),\n",
       " (1, 'X2', 0.0),\n",
       " (2, 'X6', 0.42042042042042044),\n",
       " (3, 'X7', 0.487987987987988)]"
      ]
     },
     "execution_count": 17,
     "metadata": {},
     "output_type": "execute_result"
    }
   ],
   "source": [
    "map4l[:4]"
   ]
  },
  {
   "cell_type": "code",
   "execution_count": 18,
   "id": "833ad4a2-79d9-4e25-9aaf-0367bf4ede8c",
   "metadata": {
    "tags": []
   },
   "outputs": [
    {
     "data": {
      "image/png": "[encoded data removed]",
      "text/plain": [
       "<Figure size 640x480 with 1 Axes>"
      ]
     },
     "metadata": {},
     "output_type": "display_data"
    }
   ],
   "source": [
    "xvals = [t[0] for t in map4l]\n",
    "yvals = [t[2] for t in map4l]\n",
    "\n",
    "plt.plot(xvals, yvals, linestyle='-', marker='o', markersize=1)\n",
    "plt.scatter(xvals, yvals, color='black', s=5)\n",
    "\n",
    "plt.xlabel('Index')\n",
    "plt.ylabel('Values')\n",
    "\n",
    "\n",
    "plt.show();"
   ]
  },
  {
   "cell_type": "markdown",
   "id": "f299eec1-0dff-4580-9389-599542bdf851",
   "metadata": {
    "tags": []
   },
   "source": [
    "# Format 5"
   ]
  },
  {
   "cell_type": "code",
   "execution_count": 19,
   "id": "e150c83c-635e-4f0f-a684-412ae57b6c27",
   "metadata": {},
   "outputs": [],
   "source": [
    "n5 = pdf.f5nu.shape[0]\n",
    "f5cols = list(pdf.f5nu.columns)\n",
    "f5cols.remove(key)\n",
    "f5cols = [col for col in f5cols if col not in set_key]\n",
    "map5l = []\n",
    "trck = 0\n",
    "for j in f5cols:\n",
    "    cnc = pdf.f5nu[key] + pdf.f5nu[j]\n",
    "    ndu = 100*int(sum(cnc.value_counts().values[cnc.value_counts().values == 1]))/n5\n",
    "    trck += 1\n",
    "    map5l.append((trck, j, ndu))\n",
    "    trck += 1\n"
   ]
  },
  {
   "cell_type": "code",
   "execution_count": 21,
   "id": "3fbb459c-02f8-4cf6-b2de-0538dbab1937",
   "metadata": {
    "tags": []
   },
   "outputs": [
    {
     "data": {
      "text/plain": [
       "[(1, 'X1', 0.0),\n",
       " (3, 'X2', 0.0),\n",
       " (5, 'X6', 0.3284758719541328),\n",
       " (7, 'X7', 0.37028189202102246)]"
      ]
     },
     "execution_count": 21,
     "metadata": {},
     "output_type": "execute_result"
    }
   ],
   "source": [
    "map5l[:4]"
   ]
  },
  {
   "cell_type": "code",
   "execution_count": 20,
   "id": "bb1c40ea-7a9b-40e0-9427-795ab60b4f2c",
   "metadata": {
    "tags": []
   },
   "outputs": [
    {
     "data": {
      "image/png": "[encoded data removed]",
      "text/plain": [
       "<Figure size 640x480 with 1 Axes>"
      ]
     },
     "metadata": {},
     "output_type": "display_data"
    }
   ],
   "source": [
    "xvals = [t[0] for t in map5l]\n",
    "yvals = [t[2] for t in map5l]\n",
    "\n",
    "plt.plot(xvals, yvals, linestyle='-', marker='o', markersize=1)\n",
    "plt.scatter(xvals, yvals, color='black', s=5)\n",
    "\n",
    "plt.xlabel('Index')\n",
    "plt.ylabel('Values')\n",
    "\n",
    "\n",
    "plt.show();"
   ]
  },
  {
   "cell_type": "markdown",
   "id": "4edbc4ca-0a77-4b28-a9ff-c89bd3fa5c42",
   "metadata": {},
   "source": [
    "# Showing top potential solutions"
   ]
  },
  {
   "cell_type": "code",
   "execution_count": 64,
   "id": "9fc11195-b661-45db-941e-fd0cc40d13f1",
   "metadata": {
    "tags": []
   },
   "outputs": [
    {
     "data": {
      "text/plain": [
       "[(35, 'X40', 93.83633633633633),\n",
       " (36, 'X41', 93.78378378378379),\n",
       " (37, 'X42', 93.43093093093093),\n",
       " (31, 'X36', 90.7957957957958),\n",
       " (58, 'X63', 69.7897897897898),\n",
       " (69, 'X74', 68.91891891891892),\n",
       " (29, 'X33', 54.98498498498498),\n",
       " (13, 'X17', 46.689189189189186),\n",
       " (55, 'X60', 37.650150150150154),\n",
       " (56, 'X61', 36.328828828828826),\n",
       " (57, 'X62', 35.765765765765764),\n",
       " (33, 'X38', 34.98498498498498),\n",
       " (61, 'X66', 34.969969969969966),\n",
       " (44, 'X49', 34.947447447447445),\n",
       " (62, 'X67', 34.174174174174176),\n",
       " (48, 'X53', 34.15915915915916),\n",
       " (190, 'X195', 28.753753753753752),\n",
       " (192, 'X197', 28.73123123123123),\n",
       " (191, 'X196', 28.70870870870871),\n",
       " (193, 'X198', 28.70870870870871),\n",
       " (201, 'X206', 28.626126126126128),\n",
       " (198, 'X203', 27.004504504504503),\n",
       " (194, 'X199', 26.966966966966968),\n",
       " (196, 'X201', 26.95945945945946),\n",
       " (47, 'X52', 26.584084084084083),\n",
       " (195, 'X200', 25.96846846846847),\n",
       " (200, 'X205', 25.90840840840841),\n",
       " (199, 'X204', 25.863363363363362),\n",
       " (197, 'X202', 23.16066066066066),\n",
       " (28, 'X32', 20.435435435435437),\n",
       " (39, 'X44', 17.37237237237237),\n",
       " (202, 'X207', 16.14114114114114),\n",
       " (204, 'X209', 16.126126126126128),\n",
       " (203, 'X208', 16.11111111111111),\n",
       " (205, 'X210', 16.11111111111111)]"
      ]
     },
     "execution_count": 64,
     "metadata": {},
     "output_type": "execute_result"
    }
   ],
   "source": [
    "map4l.sort(key=lambda i: -1*i[2])\n",
    "map4l[:35]"
   ]
  },
  {
   "cell_type": "code",
   "execution_count": 26,
   "id": "1d6ec668-7273-4a51-b6dd-949ad563d6ce",
   "metadata": {
    "tags": []
   },
   "outputs": [
    {
     "data": {
      "text/plain": [
       "[(27, 'X17', 95.17439082656475),\n",
       " (53, 'X30', 2.9443382704252268),\n",
       " (47, 'X27', 2.4964166268514094),\n",
       " (75, 'X42', 2.4247491638795986),\n",
       " (83, 'X46', 2.4247491638795986),\n",
       " (105, 'X57', 2.4247491638795986),\n",
       " (113, 'X61', 2.4247491638795986),\n",
       " (165, 'X87', 2.4247491638795986),\n",
       " (173, 'X91', 2.4247491638795986),\n",
       " (195, 'X102', 2.4247491638795986),\n",
       " (201, 'X105', 2.4247491638795986),\n",
       " (203, 'X106', 2.4247491638795986),\n",
       " (207, 'X108', 2.4247491638795986),\n",
       " (345, 'X177', 2.4247491638795986),\n",
       " (351, 'X180', 2.4247491638795986)]"
      ]
     },
     "execution_count": 26,
     "metadata": {},
     "output_type": "execute_result"
    }
   ],
   "source": [
    "map5l.sort(key=lambda i: -1*i[2])\n",
    "map5l[:15]"
   ]
  },
  {
   "cell_type": "markdown",
   "id": "f19200dc-06c9-480b-a16c-465e036de23d",
   "metadata": {
    "tags": []
   },
   "source": [
    "# F4: what is going on?\n",
    "\n",
    "Understand duplication. \n",
    "Visualize data."
   ]
  },
  {
   "cell_type": "code",
   "execution_count": 65,
   "id": "3cc54064-0e6c-4f60-8093-a273cf805c36",
   "metadata": {
    "tags": []
   },
   "outputs": [
    {
     "name": "stdout",
     "output_type": "stream",
     "text": [
      "f4 map key = X40 account for 93.83633633633633 % \n",
      " {'Animal Herd Code Information -> 12 -> Field Description -> Actual lactation milk yield/10': '147-150'} \n",
      "\n",
      "\n",
      "f4 map key = X41 account for 93.78378378378379 % \n",
      " {'Animal Herd Code Information -> 13 -> Field Description -> Actual lactation fat yield': '151-154'} \n",
      "\n",
      "\n",
      "f4 map key = X42 account for 93.43093093093093 % \n",
      " {'Animal Herd Code Information -> 14 -> Field Description -> Actual lactation protein yield': '155-158'} \n",
      "\n",
      "\n",
      "f4 map key = X36 account for 90.7957957957958 % \n",
      " {'Animal Herd Code Information -> 8 -> Field Description -> Days in milk this lactation': '136-138'} \n",
      "\n",
      "\n",
      "f4 map key = X63 account for 69.7897897897898 % \n",
      " {'Animal Herd Code Information -> 35 -> Field Description -> Number of lactations included in environmental group for comparison': '217-220'} \n",
      "\n",
      "\n",
      "f4 map key = X74 account for 68.91891891891892 % \n",
      " {'Animal Herd Code Information -> 46 -> Field Description -> Number of segments for test days': '249-250'} \n",
      "\n",
      "\n",
      "f4 map key = X33 account for 54.98498498498498 % \n",
      " {'Animal Herd Code Information -> 5 -> Field Description -> Lactation type code': '126'} \n",
      "\n",
      "\n",
      "f4 map key = X17 account for 46.689189189189186 % \n",
      " {'Cross Reference Identification Information -> 5 -> Field Description -> Processing Date': '80-87'} \n",
      "\n",
      "\n",
      "f4 map key = X60 account for 37.650150150150154 % \n",
      " {'Animal Herd Code Information -> 32 -> Field Description -> Milk yield deviation': '201-206'} \n",
      "\n",
      "\n",
      "f4 map key = X61 account for 36.328828828828826 % \n",
      " {'Animal Herd Code Information -> 33 -> Field Description -> Fat yield deviation': '207-211'} \n",
      "\n",
      "\n",
      "f4 map key = X62 account for 35.765765765765764 % \n",
      " {'Animal Herd Code Information -> 34 -> Field Description -> Protein yield deviation': '212-216'} \n",
      "\n",
      "\n",
      "f4 map key = X38 account for 34.98498498498498 % \n",
      " {'Animal Herd Code Information -> 10 -> Field Description -> Number of test days in this lactation (blank if not used)': '142-143'} \n",
      "\n",
      "\n",
      "f4 map key = X66 account for 34.969969969969966 % \n",
      " {'Animal Herd Code Information -> 38 -> Field Description -> Number of supervised tests': '232-233'} \n",
      "\n",
      "\n",
      "f4 map key = X49 account for 34.947447447447445 % \n",
      " {'Animal Herd Code Information -> 21 -> Field Description -> Milking/dry status (0=not used, 1=milking, 2=dry)': '175'} \n",
      "\n",
      "\n",
      "f4 map key = X67 account for 34.174174174174176 % \n",
      " {'Animal Herd Code Information -> 39 -> Field Description -> Number of tests where components were taken and analyzed': '234-235'} \n",
      "\n",
      "\n",
      "f4 map key = X53 account for 34.15915915915916 % \n",
      " {'Animal Herd Code Information -> 25 -> Field Description -> Number of tests in somatic cell average': '182-184'} \n",
      "\n",
      "\n",
      "f4 map key = X195 account for 28.753753753753752 % \n",
      " {'Test-Day 11 Information -> 0 -> Field Description -> Days in milk this test day': '481-483'} \n",
      "\n",
      "\n",
      "f4 map key = X197 account for 28.73123123123123 % \n",
      " {'Test-Day 11 Information -> 2 -> Field Description -> Last test-day status code': '485'} \n",
      "\n",
      "\n",
      "f4 map key = X196 account for 28.70870870870871 % \n",
      " {'Test-Day 11 Information -> 1 -> Field Description -> Supervision code': '484'} \n",
      "\n",
      "\n",
      "f4 map key = X198 account for 28.70870870870871 % \n",
      " {'Test-Day 11 Information -> 3 -> Field Description -> Milking frequency (Last day of test period)': '486'} \n",
      "\n",
      "\n",
      "f4 map key = X206 account for 28.626126126126128 % \n",
      " {'Test-Day 11 Information -> 11 -> Field Description -> Actual SCS': '502-503'} \n",
      "\n",
      "\n",
      "f4 map key = X203 account for 27.004504504504503 % \n",
      " {'Test-Day 11 Information -> 8 -> Field Description -> Actual milk yield (avg. if MRD > 1)': '494-497'} \n",
      "\n",
      "\n",
      "f4 map key = X199 account for 26.966966966966968 % \n",
      " {'Test-Day 11 Information -> 4 -> Field Description -> Number of milkings at which milk was weighed (Last day of test period)': '487'} \n",
      "\n",
      "\n",
      "f4 map key = X201 account for 26.95945945945946 % \n",
      " {'Test-Day 11 Information -> 6 -> Field Description -> Number of milk-recorded days (MRD)': '489-490'} \n",
      "\n",
      "\n",
      "f4 map key = X52 account for 26.584084084084083 % \n",
      " {'Animal Herd Code Information -> 24 -> Field Description -> Lactation average of somatic cell scores': '179-181'} \n",
      "\n",
      "\n",
      "f4 map key = X200 account for 25.96846846846847 % \n",
      " {'Test-Day 11 Information -> 5 -> Field Description -> Number of milkings at which samples were taken for comp. analysis (Last day of test period)': '488'} \n",
      "\n",
      "\n",
      "f4 map key = X205 account for 25.90840840840841 % \n",
      " {'Test-Day 11 Information -> 10 -> Field Description -> Actual protein percentage': '500-501'} \n",
      "\n",
      "\n",
      "f4 map key = X204 account for 25.863363363363362 % \n",
      " {'Test-Day 11 Information -> 9 -> Field Description -> Actual fat percentage': '498-499'} \n",
      "\n",
      "\n",
      "f4 map key = X202 account for 23.16066066066066 % \n",
      " {'Test-Day 11 Information -> 7 -> Field Description -> Percentage of milk that was shipped': '491-493'} \n",
      "\n",
      "\n",
      "f4 map key = X32 account for 20.435435435435437 % \n",
      " {'Animal Herd Code Information -> 4 -> Field Description -> Date cow left the herd [YYMMDD]': '120-125'} \n",
      "\n",
      "\n",
      "f4 map key = X44 account for 17.37237237237237 % \n",
      " {'Animal Herd Code Information -> 16 -> Field Description -> Primary destination group/termination code': '161'} \n",
      "\n",
      "\n",
      "f4 map key = X207 account for 16.14114114114114 % \n",
      " {'Test-Day 12 Information -> 0 -> Field Description -> Days in milk this test day': '504-506'} \n",
      "\n",
      "\n",
      "f4 map key = X209 account for 16.126126126126128 % \n",
      " {'Test-Day 12 Information -> 2 -> Field Description -> Last test-day status code': '508'} \n",
      "\n",
      "\n",
      "f4 map key = X208 account for 16.11111111111111 % \n",
      " {'Test-Day 12 Information -> 1 -> Field Description -> Supervision code': '507'} \n",
      "\n",
      "\n"
     ]
    }
   ],
   "source": [
    "for key in range(34):\n",
    "    print(f'f4 map key = {map4l[key][1]} account for {map4l[key][2]} % \\n {init.mapf4[map4l[key][1]]} \\n\\n')"
   ]
  },
  {
   "cell_type": "markdown",
   "id": "88dbab49-65eb-4f4b-a14f-dc05862f8aa3",
   "metadata": {},
   "source": [
    "# You need tyo see the data:\n",
    "Crearte a function that displies snipets of dataset in a legible way."
   ]
  },
  {
   "cell_type": "code",
   "execution_count": 42,
   "id": "bd989b59-3ce6-401e-8fa8-53640a72ed6d",
   "metadata": {
    "tags": []
   },
   "outputs": [
    {
     "data": {
      "text/html": [
       "<div>\n",
       "<style scoped>\n",
       "    .dataframe tbody tr th:only-of-type {\n",
       "        vertical-align: middle;\n",
       "    }\n",
       "\n",
       "    .dataframe tbody tr th {\n",
       "        vertical-align: top;\n",
       "    }\n",
       "\n",
       "    .dataframe thead th {\n",
       "        text-align: right;\n",
       "    }\n",
       "</style>\n",
       "<table border=\"1\" class=\"dataframe\">\n",
       "  <thead>\n",
       "    <tr style=\"text-align: right;\">\n",
       "      <th></th>\n",
       "      <th>Key</th>\n",
       "      <th>X36</th>\n",
       "      <th>X40</th>\n",
       "      <th>X41</th>\n",
       "      <th>X42</th>\n",
       "    </tr>\n",
       "  </thead>\n",
       "  <tbody>\n",
       "    <tr>\n",
       "      <th>0</th>\n",
       "      <td>JE84000300095328920090828</td>\n",
       "      <td>293</td>\n",
       "      <td></td>\n",
       "      <td></td>\n",
       "      <td></td>\n",
       "    </tr>\n",
       "    <tr>\n",
       "      <th>1</th>\n",
       "      <td>JE84000300095328920090828</td>\n",
       "      <td>293</td>\n",
       "      <td>1503</td>\n",
       "      <td>0512</td>\n",
       "      <td>0513</td>\n",
       "    </tr>\n",
       "    <tr>\n",
       "      <th>2</th>\n",
       "      <td>JE84000300122600320160423</td>\n",
       "      <td>305</td>\n",
       "      <td>1990</td>\n",
       "      <td>1101</td>\n",
       "      <td>0765</td>\n",
       "    </tr>\n",
       "    <tr>\n",
       "      <th>3</th>\n",
       "      <td>JE84000300122600320160423</td>\n",
       "      <td>360</td>\n",
       "      <td>2190</td>\n",
       "      <td>1246</td>\n",
       "      <td>0856</td>\n",
       "    </tr>\n",
       "    <tr>\n",
       "      <th>4</th>\n",
       "      <td>JE84000300122640220170525</td>\n",
       "      <td>305</td>\n",
       "      <td>1981</td>\n",
       "      <td>1056</td>\n",
       "      <td>0738</td>\n",
       "    </tr>\n",
       "  </tbody>\n",
       "</table>\n",
       "</div>"
      ],
      "text/plain": [
       "                         Key  X36   X40   X41   X42\n",
       "0  JE84000300095328920090828  293                  \n",
       "1  JE84000300095328920090828  293  1503  0512  0513\n",
       "2  JE84000300122600320160423  305  1990  1101  0765\n",
       "3  JE84000300122600320160423  360  2190  1246  0856\n",
       "4  JE84000300122640220170525  305  1981  1056  0738"
      ]
     },
     "execution_count": 42,
     "metadata": {},
     "output_type": "execute_result"
    }
   ],
   "source": [
    "# Somehow I want to see a repeated key with diversity of data. Something like this:\n",
    "pdf.f4nu[['Key', 'X36', 'X40', 'X41', 'X42']].head()"
   ]
  },
  {
   "cell_type": "markdown",
   "id": "2f854f46-aad6-4a65-834f-cf2f5bfb79a4",
   "metadata": {
    "tags": []
   },
   "source": [
    "# Improve it a little more:\n",
    "Lets say I want to see 10 random Keys, and the randomnsess hass to be repeatable. Also, you want to target few rows. Then, diusplay the subset of dataset. \n",
    "\n",
    "Do a function that does this job. Eventually, this function will be incorporated to a modulus."
   ]
  },
  {
   "cell_type": "code",
   "execution_count": 51,
   "id": "40c17d27-3a37-40bd-b88a-82750193ae6e",
   "metadata": {
    "tags": []
   },
   "outputs": [
    {
     "data": {
      "text/html": [
       "<div>\n",
       "<style scoped>\n",
       "    .dataframe tbody tr th:only-of-type {\n",
       "        vertical-align: middle;\n",
       "    }\n",
       "\n",
       "    .dataframe tbody tr th {\n",
       "        vertical-align: top;\n",
       "    }\n",
       "\n",
       "    .dataframe thead th {\n",
       "        text-align: right;\n",
       "    }\n",
       "</style>\n",
       "<table border=\"1\" class=\"dataframe\">\n",
       "  <thead>\n",
       "    <tr style=\"text-align: right;\">\n",
       "      <th></th>\n",
       "      <th>Key</th>\n",
       "      <th>X36</th>\n",
       "      <th>X40</th>\n",
       "      <th>X41</th>\n",
       "      <th>X42</th>\n",
       "    </tr>\n",
       "  </thead>\n",
       "  <tbody>\n",
       "    <tr>\n",
       "      <th>401</th>\n",
       "      <td>JE84000300463471420121019</td>\n",
       "      <td>307</td>\n",
       "      <td>2017</td>\n",
       "      <td>0731</td>\n",
       "      <td>0668</td>\n",
       "    </tr>\n",
       "    <tr>\n",
       "      <th>402</th>\n",
       "      <td>JE84000300463471420121019</td>\n",
       "      <td>305</td>\n",
       "      <td>2003</td>\n",
       "      <td>0726</td>\n",
       "      <td>0663</td>\n",
       "    </tr>\n",
       "    <tr>\n",
       "      <th>7811</th>\n",
       "      <td>JE98800100087357020171107</td>\n",
       "      <td>330</td>\n",
       "      <td>2111</td>\n",
       "      <td>0946</td>\n",
       "      <td>0774</td>\n",
       "    </tr>\n",
       "    <tr>\n",
       "      <th>7812</th>\n",
       "      <td>JE98800100087357020171107</td>\n",
       "      <td>305</td>\n",
       "      <td>2004</td>\n",
       "      <td>0889</td>\n",
       "      <td>0731</td>\n",
       "    </tr>\n",
       "    <tr>\n",
       "      <th>8282</th>\n",
       "      <td>JEUSA00006703335620100108</td>\n",
       "      <td>305</td>\n",
       "      <td>1948</td>\n",
       "      <td>0891</td>\n",
       "      <td>0666</td>\n",
       "    </tr>\n",
       "    <tr>\n",
       "      <th>8283</th>\n",
       "      <td>JEUSA00006703335620100108</td>\n",
       "      <td>306</td>\n",
       "      <td>1952</td>\n",
       "      <td>0893</td>\n",
       "      <td>0667</td>\n",
       "    </tr>\n",
       "    <tr>\n",
       "      <th>9881</th>\n",
       "      <td>JEUSA00006904296720141117</td>\n",
       "      <td>278</td>\n",
       "      <td>2224</td>\n",
       "      <td>1136</td>\n",
       "      <td>0823</td>\n",
       "    </tr>\n",
       "    <tr>\n",
       "      <th>9882</th>\n",
       "      <td>JEUSA00006904296720141117</td>\n",
       "      <td>278</td>\n",
       "      <td>2224</td>\n",
       "      <td>1136</td>\n",
       "      <td>0823</td>\n",
       "    </tr>\n",
       "    <tr>\n",
       "      <th>11370</th>\n",
       "      <td>JEUSA00011865217920160406</td>\n",
       "      <td>618</td>\n",
       "      <td>2416</td>\n",
       "      <td>1290</td>\n",
       "      <td>0922</td>\n",
       "    </tr>\n",
       "    <tr>\n",
       "      <th>11371</th>\n",
       "      <td>JEUSA00011865217920160406</td>\n",
       "      <td>305</td>\n",
       "      <td>1283</td>\n",
       "      <td>0668</td>\n",
       "      <td>0466</td>\n",
       "    </tr>\n",
       "    <tr>\n",
       "      <th>11372</th>\n",
       "      <td>JEUSA00011865217920160406</td>\n",
       "      <td>365</td>\n",
       "      <td>1490</td>\n",
       "      <td>0783</td>\n",
       "      <td>0554</td>\n",
       "    </tr>\n",
       "  </tbody>\n",
       "</table>\n",
       "</div>"
      ],
      "text/plain": [
       "                             Key  X36   X40   X41   X42\n",
       "401    JE84000300463471420121019  307  2017  0731  0668\n",
       "402    JE84000300463471420121019  305  2003  0726  0663\n",
       "7811   JE98800100087357020171107  330  2111  0946  0774\n",
       "7812   JE98800100087357020171107  305  2004  0889  0731\n",
       "8282   JEUSA00006703335620100108  305  1948  0891  0666\n",
       "8283   JEUSA00006703335620100108  306  1952  0893  0667\n",
       "9881   JEUSA00006904296720141117  278  2224  1136  0823\n",
       "9882   JEUSA00006904296720141117  278  2224  1136  0823\n",
       "11370  JEUSA00011865217920160406  618  2416  1290  0922\n",
       "11371  JEUSA00011865217920160406  305  1283  0668  0466\n",
       "11372  JEUSA00011865217920160406  365  1490  0783  0554"
      ]
     },
     "execution_count": 51,
     "metadata": {},
     "output_type": "execute_result"
    }
   ],
   "source": [
    "np.random.seed(92) # You need randomness\n",
    "n = 5 # You need a `n`\n",
    "subset_keys = np.random.choice(pdf.f4nu['Key'].unique(), n, replace=False)\n",
    "\n",
    "pdf.f4nu.loc[pdf.f4nu['Key'].isin(subset_keys), ['Key', 'X36', 'X40', 'X41', 'X42']]"
   ]
  },
  {
   "cell_type": "markdown",
   "id": "790df663-d2d1-4ee0-bbae-e38f6a9ccee1",
   "metadata": {},
   "source": [
    "Construct function."
   ]
  },
  {
   "cell_type": "code",
   "execution_count": 66,
   "id": "cb0c2fb7-941f-4840-a827-5bb5f7a8a3e2",
   "metadata": {
    "tags": []
   },
   "outputs": [
    {
     "name": "stdout",
     "output_type": "stream",
     "text": [
      "                            Key  X36   X40   X41   X42\n",
      "6205  JE84000314932455820200108  365  1727  0996  0655\n",
      "6206  JE84000314932455820200108  305  1503  0848  0561\n",
      "6207  JE84000314932455820200108  401  1849  1079  0708\n",
      "\n",
      "                            Key  X36   X40   X41   X42\n",
      "6418  JE84000319967643720200520  029  0160  0088  0061\n",
      "6419  JE84000319967643720200520  315  1992  0907  0730\n",
      "6420  JE84000319967643720200520  305  1933  0880  0709\n",
      "\n",
      "                             Key  X36   X40   X41   X42\n",
      "11921  JEUSA00042THD562720160524  345  1813  0965  0696\n",
      "11922  JEUSA00042THD562720160524  305  1637  0852  0622\n",
      "\n",
      "                            Key  X36   X40   X41   X42\n",
      "8722  JEUSA00006721707720090420  382  2103  0989  0720\n",
      "8723  JEUSA00006721707720090420  365  2009  0948  0687\n",
      "8724  JEUSA00006721707720090420  305  1647  0796  0552\n",
      "\n",
      "                            Key  X36   X40   X41   X42\n",
      "6612  JE84000320246727020210824  295                  \n",
      "6613  JE84000320246727020210824  311  2170  1294   921\n",
      "\n",
      "                            Key  X36   X40   X41   X42\n",
      "2107  JE84000301185699120181118  513  2768  1440  1063\n",
      "2108  JE84000301185699120181118  365  2222  1131  0851\n",
      "2109  JE84000301185699120181118  305  1889  0941  0721\n",
      "\n",
      "                            Key  X36   X40   X41   X42\n",
      "9865  JEUSA00006904175520131214  317  2094  0953  0762\n",
      "9866  JEUSA00006904175520131214  305  2035  0922  0738\n",
      "\n",
      "                             Key  X36   X40   X41   X42\n",
      "13247  JEUSA00093VXO648420180816  364  2122  1026  0812\n",
      "13248  JEUSA00093VXO648420180816  305  1891  0903  0713\n",
      "\n",
      "                            Key  X36   X40   X41   X42\n",
      "6594  JE84000320202167720201006  302  1850  0896  0657\n",
      "6595  JE84000320202167720201006  046  0274  0133  0097\n",
      "\n",
      "                            Key  X36   X40   X41   X42\n",
      "5134  JE84000313857149720200502  153  1022  0467  0357\n",
      "5135  JE84000313857149720200502  306  0000  0000  0000\n",
      "5136  JE84000313857149720200502  306  1660  0898  0682\n",
      "5137  JE84000313857149720200502  305  1658  0897  0681\n",
      "\n"
     ]
    }
   ],
   "source": [
    "def display(pdf, cols, n, seed, key):\n",
    "    np.random.seed(seed)\n",
    "    subs = np.random.choice(pdf[key].unique(), n, replace=False)\n",
    "    for sub in subs:\n",
    "        print(pdf.loc[pdf[key].isin([sub]), cols])\n",
    "        print()\n",
    "\n",
    "display(pdf=pdf.f4nu, cols = ['Key', 'X36', 'X40', 'X41', 'X42'], n=10, seed=5, key='Key')"
   ]
  },
  {
   "cell_type": "markdown",
   "id": "8f1f650e-4543-4c4b-b899-ab3a4357d211",
   "metadata": {},
   "source": [
    "# Decision\n",
    "Target top simplest problem: pick largest DIM.\n",
    "\n",
    "- I am assuming that information in unupdated milk-production record (rows) are useless."
   ]
  },
  {
   "cell_type": "code",
   "execution_count": 75,
   "id": "a1a11e31-6b09-4181-a5e9-b43d5874cc86",
   "metadata": {
    "tags": []
   },
   "outputs": [],
   "source": [
    "pdf.f4nu['X36'] = pd.to_numeric(pdf.f4nu['X36'])"
   ]
  },
  {
   "cell_type": "code",
   "execution_count": 91,
   "id": "e15eb747-ac48-440c-9409-bb0d1765f04f",
   "metadata": {
    "tags": []
   },
   "outputs": [],
   "source": [
    "idx = pdf.f4nu.groupby('Key')['X36'].idxmax()\n",
    "f4nu_u = pdf.f4nu.loc[idx]\n",
    "f4nu_r = pdf.f4nu.loc[~pdf.f4nu.index.isin(f4nu_u.index)]"
   ]
  },
  {
   "cell_type": "markdown",
   "id": "63cf9df7-6727-4dc6-b775-48c90ccbdf9f",
   "metadata": {},
   "source": [
    "# Check"
   ]
  },
  {
   "cell_type": "code",
   "execution_count": 95,
   "id": "b81193e5-9ee8-43cf-b682-26eceb26c426",
   "metadata": {
    "tags": []
   },
   "outputs": [],
   "source": [
    "assert not any(f4nu_u.index.isin(f4nu_r.index)) \n",
    "assert f4nu_u.shape[0] + f4nu_r.shape[0] == pdf.f4nu.shape[0]\n",
    "assert sum(f4nu_u['Key'].duplicated()) == 0\n",
    "assert sum(f4nu_r['Key'].duplicated()) > 0"
   ]
  },
  {
   "cell_type": "markdown",
   "id": "af486967-05be-4a01-9460-a100b8ec9ba7",
   "metadata": {},
   "source": [
    "# Record data partition"
   ]
  },
  {
   "cell_type": "code",
   "execution_count": 98,
   "id": "29c86755-6bad-40b8-8317-2ad75c3567e4",
   "metadata": {
    "tags": []
   },
   "outputs": [
    {
     "name": "stdout",
     "output_type": "stream",
     "text": [
      "pdf.f4nu.shape[0] = 13320 \n",
      "f4nu_u.shape[0] = 5525 \n",
      "f4nu_r.shape[0] = 7795 \n",
      "100 * f4nu_u.shape[0]/pdf.f4nu.shape[0] = 41.47897897897898 \n",
      "100 * f4nu_r.shape[0]/pdf.f4nu.shape[0] = 58.52102102102102 \n",
      "\n"
     ]
    }
   ],
   "source": [
    "print(f'pdf.f4nu.shape[0] = {pdf.f4nu.shape[0]} \\n'\n",
    "      f'f4nu_u.shape[0] = {f4nu_u.shape[0]} \\n'\n",
    "      f'f4nu_r.shape[0] = {f4nu_r.shape[0]} \\n'\n",
    "      f'100 * f4nu_u.shape[0]/pdf.f4nu.shape[0] = {100 * f4nu_u.shape[0]/pdf.f4nu.shape[0]} \\n'\n",
    "      f'100 * f4nu_r.shape[0]/pdf.f4nu.shape[0] = {100 * f4nu_r.shape[0]/pdf.f4nu.shape[0]} \\n')"
   ]
  },
  {
   "cell_type": "markdown",
   "id": "274b7b10-489a-4baa-b01c-82180e3e91c7",
   "metadata": {},
   "source": [
    "# True question:\n",
    "Proportion of recovered keys?"
   ]
  },
  {
   "cell_type": "code",
   "execution_count": 113,
   "id": "29df1301-1fba-4ed6-97ba-7cdace881c26",
   "metadata": {
    "tags": []
   },
   "outputs": [
    {
     "name": "stdout",
     "output_type": "stream",
     "text": [
      "Number of unique keys in pdf.f4nu['Key']: rnf4 = 5525 \n",
      "Number of unique keys in f4nu_u (which is f4nu_u.shape[0]): unf4 = 5525 \n",
      "Recovered percentage: 100*unf4/rnf4 = 100.0 %\n"
     ]
    }
   ],
   "source": [
    "rnf4 = len(pdf.f4nu['Key'].unique())\n",
    "unf4 = len(f4nu_u['Key'].unique())\n",
    "\n",
    "print(f\"Number of unique keys in pdf.f4nu['Key']: rnf4 = {rnf4} \\n\"\n",
    "      f\"Number of unique keys in f4nu_u (which is f4nu_u.shape[0]): unf4 = {unf4} \\n\"\n",
    "      f\"Recovered percentage: 100*unf4/rnf4 = {100*unf4/rnf4} %\")"
   ]
  },
  {
   "cell_type": "markdown",
   "id": "2e28a9a5-1b4a-474d-80df-9b2b4989d5a0",
   "metadata": {},
   "source": [
    "# Save f4 files"
   ]
  },
  {
   "cell_type": "code",
   "execution_count": 120,
   "id": "9b830962-4262-4ad6-9dec-5a25e92dfdf8",
   "metadata": {
    "tags": []
   },
   "outputs": [
    {
     "name": "stdout",
     "output_type": "stream",
     "text": [
      "Saving f4nu_u in /blue/mateescu/agustinchasco/Projects/reprojersey/data/ipykernel_launcher/test/ipykernel_launcher_test_f4nu_u.txt\n",
      "Saving f4nu_r in /blue/mateescu/agustinchasco/Projects/reprojersey/data/ipykernel_launcher/test/ipykernel_launcher_test_f4nu_r.txt\n"
     ]
    }
   ],
   "source": [
    "f4uext = 'f4nu_u.txt'\n",
    "f4rext = 'f4nu_r.txt'\n",
    "\n",
    "print(f'Saving f4nu_u in {init.SavePath(f4uext)}')\n",
    "init.Save_PDF_as_TXT(pandas_df=f4nu_u, extension=f4uext)\n",
    "\n",
    "print(f'Saving f4nu_r in {init.SavePath(f4rext)}')\n",
    "init.Save_PDF_as_TXT(pandas_df=f4nu_r, extension=f4rext)"
   ]
  },
  {
   "cell_type": "markdown",
   "id": "e598a845-7f43-49af-bb99-9b7a06b25403",
   "metadata": {},
   "source": [
    "# f5: What is going on?"
   ]
  },
  {
   "cell_type": "code",
   "execution_count": 121,
   "id": "1208b2b9-afe3-41f0-ab5a-010eacef7a9f",
   "metadata": {
    "tags": []
   },
   "outputs": [
    {
     "name": "stdout",
     "output_type": "stream",
     "text": [
      "                             Key       X17\n",
      "16124  JEUSA00093VEH475420130317  20160521\n",
      "16125  JEUSA00093VEH475420130317  20160520\n",
      "\n",
      "                             Key       X17\n",
      "10562  JE98200036944514820190913  20201103\n",
      "10563  JE98200036944514820190913  20201026\n",
      "10564  JE98200036944514820190913  20200905\n",
      "10565  JE98200036944514820190913  20200904\n",
      "10566  JE98200036944514820190913  20200304\n",
      "10567  JE98200036944514820190913  20200205\n",
      "10568  JE98200036944514820190913  20200709\n",
      "10569  JE98200036944514820190913  20200626\n",
      "10570  JE98200036944514820190913  20200625\n",
      "\n",
      "                            Key       X17\n",
      "6305  JE84000313312484020180918  20190312\n",
      "6306  JE84000313312484020180918  20190102\n",
      "6307  JE84000313312484020180918  20190313\n",
      "\n",
      "                             Key       X17\n",
      "13522  JEUSA00007004942220160814  20161206\n",
      "13523  JEUSA00007004942220160814  20161201\n",
      "13524  JEUSA00007004942220160814  20190206\n",
      "\n",
      "                             Key       X17\n",
      "15626  JEUSA00093TLO004320131215  20140516\n",
      "15627  JEUSA00093TLO004320131215  20140314\n",
      "15628  JEUSA00093TLO004320131215  20140214\n",
      "\n",
      "                            Key       X17\n",
      "7756  JE84000313989389320180830  20181108\n",
      "7757  JE84000313989389320180830  20190206\n",
      "\n",
      "                            Key       X17\n",
      "2135  JE84000300947355420140810  20150215\n",
      "2136  JE84000300947355420140810  20150211\n",
      "\n",
      "                            Key       X17\n",
      "8663  JE84000314574420320190709  20191124\n",
      "8664  JE84000314574420320190709  20191224\n",
      "\n",
      "                           Key       X17\n",
      "310  JE84000300374111020100228  20100916\n",
      "311  JE84000300374111020100228  20100918\n",
      "\n",
      "                            Key       X17\n",
      "9036  JE84000314894417120191202  20200414\n",
      "9037  JE84000314894417120191202  20200528\n",
      "9038  JE84000314894417120191202  20210517\n",
      "\n"
     ]
    }
   ],
   "source": [
    "display(pdf=pdf.f5nu, cols = ['Key', 'X17'], n=10, seed=5, key='Key')"
   ]
  },
  {
   "cell_type": "code",
   "execution_count": 123,
   "id": "163c8f4b-cd9c-441f-afaa-4d5aa9ea3cf3",
   "metadata": {
    "tags": []
   },
   "outputs": [],
   "source": [
    "pdf.f5nu['X17'] = pd.to_numeric(pdf.f5nu['X17'])\n",
    "f5nu_u = pdf.f5nu.loc[pdf.f5nu.groupby('Key')['X17'].idxmax()]\n",
    "f5nu_r = pdf.f5nu.loc[~pdf.f5nu.index.isin(f5nu_u.index)]"
   ]
  },
  {
   "cell_type": "markdown",
   "id": "6a71a20b-b0ba-4812-b878-b9fbba74e5fd",
   "metadata": {},
   "source": [
    "# Check"
   ]
  },
  {
   "cell_type": "code",
   "execution_count": 124,
   "id": "7d834356-404d-479a-b2dd-98f85da7d289",
   "metadata": {
    "tags": []
   },
   "outputs": [],
   "source": [
    "assert not any(f5nu_u.index.isin(f5nu_r.index)) \n",
    "assert f5nu_u.shape[0] + f5nu_r.shape[0] == pdf.f5nu.shape[0]\n",
    "assert sum(f5nu_u['Key'].duplicated()) == 0\n",
    "assert sum(f5nu_r['Key'].duplicated()) > 0"
   ]
  },
  {
   "cell_type": "markdown",
   "id": "d1e267c3-5d27-4a06-a177-2862048c6f83",
   "metadata": {},
   "source": [
    "# Report partition"
   ]
  },
  {
   "cell_type": "code",
   "execution_count": 125,
   "id": "c361753e-db92-4530-8800-b683866b6a05",
   "metadata": {
    "tags": []
   },
   "outputs": [
    {
     "name": "stdout",
     "output_type": "stream",
     "text": [
      "pdf.f5nu.shape[0] = 16744 \n",
      "f5nu_u.shape[0] = 5334 \n",
      "f5nu_r.shape[0] = 11410 \n",
      "100 * f5nu_u.shape[0]/pdf.f5nu.shape[0] = 31.8561872909699 \n",
      "100 * f5nu_r.shape[0]/pdf.f5nu.shape[0] = 68.1438127090301 \n",
      "\n"
     ]
    }
   ],
   "source": [
    "print(f'pdf.f5nu.shape[0] = {pdf.f5nu.shape[0]} \\n'\n",
    "      f'f5nu_u.shape[0] = {f5nu_u.shape[0]} \\n'\n",
    "      f'f5nu_r.shape[0] = {f5nu_r.shape[0]} \\n'\n",
    "      f'100 * f5nu_u.shape[0]/pdf.f5nu.shape[0] = {100 * f5nu_u.shape[0]/pdf.f5nu.shape[0]} \\n'\n",
    "      f'100 * f5nu_r.shape[0]/pdf.f5nu.shape[0] = {100 * f5nu_r.shape[0]/pdf.f5nu.shape[0]} \\n')"
   ]
  },
  {
   "cell_type": "markdown",
   "id": "a0b7dd1d-89fa-4435-bf1e-8641066786b7",
   "metadata": {},
   "source": [
    "# Proportion of solved keys"
   ]
  },
  {
   "cell_type": "code",
   "execution_count": 126,
   "id": "170f797f-4282-4bb0-bc6f-2c04b484067b",
   "metadata": {
    "tags": []
   },
   "outputs": [
    {
     "name": "stdout",
     "output_type": "stream",
     "text": [
      "Number of unique keys in pdf.f5nu['Key']: rnf5 = 5334 \n",
      "Number of unique keys in f5nu_u (which is f5nu_u.shape[0]): unf5 = 5334 \n",
      "Recovered percentage: 100*unf5/rnf5 = 100.0 %\n"
     ]
    }
   ],
   "source": [
    "rnf5 = len(pdf.f5nu['Key'].unique())\n",
    "unf5 = len(f5nu_u['Key'].unique())\n",
    "\n",
    "print(f\"Number of unique keys in pdf.f5nu['Key']: rnf5 = {rnf5} \\n\"\n",
    "      f\"Number of unique keys in f5nu_u (which is f5nu_u.shape[0]): unf5 = {unf5} \\n\"\n",
    "      f\"Recovered percentage: 100*unf5/rnf5 = {100*unf5/rnf5} %\")"
   ]
  },
  {
   "cell_type": "markdown",
   "id": "67a5f18d-941d-461c-832f-2ce590fd0aab",
   "metadata": {},
   "source": [
    "# Save data"
   ]
  },
  {
   "cell_type": "code",
   "execution_count": 127,
   "id": "91224ffd-86ce-4289-bd0f-83368d508605",
   "metadata": {
    "tags": []
   },
   "outputs": [
    {
     "name": "stdout",
     "output_type": "stream",
     "text": [
      "Saving f5nu_u in /blue/mateescu/agustinchasco/Projects/reprojersey/data/ipykernel_launcher/test/ipykernel_launcher_test_f5nu_u.txt\n",
      "Saving f5nu_r in /blue/mateescu/agustinchasco/Projects/reprojersey/data/ipykernel_launcher/test/ipykernel_launcher_test_f5nu_r.txt\n"
     ]
    }
   ],
   "source": [
    "f5uext = 'f5nu_u.txt'\n",
    "f5rext = 'f5nu_r.txt'\n",
    "\n",
    "print(f'Saving f5nu_u in {init.SavePath(f5uext)}')\n",
    "init.Save_PDF_as_TXT(pandas_df=f5nu_u, extension=f5uext)\n",
    "\n",
    "print(f'Saving f5nu_r in {init.SavePath(f5rext)}')\n",
    "init.Save_PDF_as_TXT(pandas_df=f5nu_r, extension=f5rext)"
   ]
  }
 ],
 "metadata": {
  "kernelspec": {
   "display_name": "Python 3 (ipykernel)",
   "language": "python",
   "name": "python3"
  },
  "language_info": {
   "codemirror_mode": {
    "name": "ipython",
    "version": 3
   },
   "file_extension": ".py",
   "mimetype": "text/x-python",
   "name": "python",
   "nbconvert_exporter": "python",
   "pygments_lexer": "ipython3",
   "version": "3.11.3"
  }
 },
 "nbformat": 4,
 "nbformat_minor": 5
}
