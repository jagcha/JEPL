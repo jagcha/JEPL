{
 "cells": [
  {
   "cell_type": "markdown",
   "id": "d4e06d87-62e9-47ec-879c-67cb77eccb64",
   "metadata": {
    "tags": []
   },
   "source": [
    "# Objective\n",
    "Visualize merged dataset and reshape structure to required structure.\n",
    "\n",
    "I end up in a peinful debugging of a logical issue in the f5 dataset."
   ]
  },
  {
   "cell_type": "code",
   "execution_count": 1,
   "id": "fccfdf90-235f-4f70-b23c-810330a45300",
   "metadata": {
    "tags": []
   },
   "outputs": [
    {
     "name": "stdout",
     "output_type": "stream",
     "text": [
      "Initialization: \n",
      "\n",
      "Code ipykernel_launcher.py starts. \n",
      "Codes executed when testing is 1. \n",
      "Running program in /blue/mateescu/agustinchasco/Projects/reprojersey/core. \n",
      "Reading data in /blue/mateescu/agustinchasco/Projects/reprojersey/data. \n",
      "Saving data in /blue/mateescu/agustinchasco/Projects/reprojersey/data. \n",
      "Time profiling starts. Program executed on 03-26-2025 at 07:31 PM EST.\n",
      "\n"
     ]
    }
   ],
   "source": [
    "################################################ Import modules ########################################################\n",
    "import US24UW990JEPL_01 as JEPL01\n",
    "\n",
    "################################################## Description #########################################################\n",
    "# Modular approach to integrate my work in a single master script.\n",
    "# All subcodes will be pushed to this main script.\n",
    "# Mi clean PhD work must be in this script.\n",
    "\n",
    "################################################## Parameters ##########################################################\n",
    "t = 1\n",
    "JEPL010101 = 1\n",
    "JEPL010501 = 1\n",
    "\n",
    "###########0####################################### Initialize ##########################################################\n",
    "init = JEPL01.Initializer(data_path='/blue/mateescu/agustinchasco/Projects/reprojersey/data',\n",
    "                          code_path='/blue/mateescu/agustinchasco/Projects/reprojersey/core',\n",
    "                          testing=t)"
   ]
  },
  {
   "cell_type": "code",
   "execution_count": 2,
   "id": "2e4b0b9a-ca7a-4980-898c-dc700e136e50",
   "metadata": {
    "tags": []
   },
   "outputs": [
    {
     "data": {
      "text/plain": [
       "'/blue/mateescu/agustinchasco/Projects/reprojersey/data/US25UW990JEPL.01/test/US25UW990JEPL.01_test_010502uf5.txt'"
      ]
     },
     "execution_count": 2,
     "metadata": {},
     "output_type": "execute_result"
    }
   ],
   "source": [
    "init.TXT_reader(init.TargetPath('US25UW990JEPL.01_test_010502uf5.txt'))"
   ]
  }
 ],
 "metadata": {
  "kernelspec": {
   "display_name": "Python 3 (ipykernel)",
   "language": "python",
   "name": "python3"
  },
  "language_info": {
   "codemirror_mode": {
    "name": "ipython",
    "version": 3
   },
   "file_extension": ".py",
   "mimetype": "text/x-python",
   "name": "python",
   "nbconvert_exporter": "python",
   "pygments_lexer": "ipython3",
   "version": "3.11.3"
  }
 },
 "nbformat": 4,
 "nbformat_minor": 5
}
