{
 "cells": [
  {
   "cell_type": "markdown",
   "id": "e4a80441-89dd-47b9-933f-30879d8c4f19",
   "metadata": {
    "tags": []
   },
   "source": [
    "# Testing modular approach and master script for step integration\n",
    "\n",
    "The idea is to integrate all my analysis in a single script.\n",
    "The idea is to be tidy and consistent, andp rovide a sequential set of steps that would make anyone underastand what I did and how I reach my conclusiopns.\n",
    "Eventually, this script could be uploaded in something like a git repository."
   ]
  },
  {
   "cell_type": "code",
   "execution_count": 1,
   "id": "1a1e5433-532e-4d8a-af5d-9db00680cdc1",
   "metadata": {
    "tags": []
   },
   "outputs": [],
   "source": [
    "import US25UW990JEPL_02 as JEPL\n",
    "import copy\n",
    "from datetime import datetime\n",
    "import pandas as pd\n",
    "import matplotlib.pyplot as plt\n",
    "t=1"
   ]
  },
  {
   "cell_type": "code",
   "execution_count": 2,
   "id": "53d67fc3-1b98-48c3-9cfe-cf47e04242a9",
   "metadata": {
    "tags": []
   },
   "outputs": [
    {
     "name": "stdout",
     "output_type": "stream",
     "text": [
      "Initialization: \n",
      "\n",
      "Code ipykernel_launcher.py starts. \n",
      "Codes executed when testing is 1. \n",
      "Running program in /blue/mateescu/agustinchasco/Projects/reprojersey/core. \n",
      "Reading data in /blue/mateescu/agustinchasco/Projects/reprojersey/data. \n",
      "Saving data in /blue/mateescu/agustinchasco/Projects/reprojersey/data. \n",
      "Time profiling starts. Program executed on 04-10-2025 at 01:18 PM EST.\n",
      "\n",
      "Path `/blue/mateescu/agustinchasco/Projects/reprojersey/data/ipykernel_launcher/test` already exists. \n",
      "\n",
      "Path `/blue/mateescu/agustinchasco/Projects/reprojersey/data/view` already exists. \n",
      "\n",
      "Loading map ipykernel_launcher_test_f4map.json in pathf4_map_path: \n",
      " /blue/mateescu/agustinchasco/Projects/reprojersey/data/ipykernel_launcher/test/ipykernel_launcher_test_f4map.json \n",
      " \n",
      "\n",
      "Loading map ipykernel_launcher_test_f5map.json in pathf5_map_path: \n",
      " /blue/mateescu/agustinchasco/Projects/reprojersey/data/ipykernel_launcher/test/ipykernel_launcher_test_f5map.json \n",
      " \n",
      "\n",
      "Creation of master map ipykernel_launcher_test_fmap.json in path: \n",
      " /blue/mateescu/agustinchasco/Projects/reprojersey/data/ipykernel_launcher/test/ipykernel_launcher_test_fmap.json \n",
      " \n",
      "\n",
      "HTML map file named ipykernel_launcher_test_fmap.html saved in pat: \n",
      " /blue/mateescu/agustinchasco/Projects/reprojersey/data/ipykernel_launcher/test/ipykernel_launcher_test_fmap.html \n",
      " \n",
      "\n"
     ]
    }
   ],
   "source": [
    "init = JEPL.Initializer(data_path='/blue/mateescu/agustinchasco/Projects/reprojersey/data',\n",
    "                        code_path='/blue/mateescu/agustinchasco/Projects/reprojersey/core',\n",
    "                        testing=t)\n",
    "\n",
    "init.Directories()\n",
    "init.GetFormatMap()"
   ]
  },
  {
   "cell_type": "code",
   "execution_count": 3,
   "id": "92e12382-0367-4516-815d-497d7994cf5a",
   "metadata": {
    "tags": []
   },
   "outputs": [
    {
     "name": "stdout",
     "output_type": "stream",
     "text": [
      "JEPL020101 activated when testing is 1. \n",
      "\n",
      "Loading file US25UW990JEPL.01_test_010601pdfu.txt in path: \n",
      " /blue/mateescu/agustinchasco/Projects/reprojersey/data/US25UW990JEPL.02/test/US25UW990JEPL.01_test_010601pdfu.txt \n",
      " \n",
      "\n",
      "init: <class 'US25UW990JEPL_02.Initializer'> (Not a DataFrame) \n",
      "\n",
      "pdfu: <class 'pandas.core.frame.DataFrame'> with shape (23353, 650) \n",
      "\n"
     ]
    }
   ],
   "source": [
    "print(f'JEPL020101 activated when testing is {init.t}. \\n')\n",
    "fn = ['US25UW990JEPL.01_impl_010601pdfu.txt', 'US25UW990JEPL.01_test_010601pdfu.txt'][init.t]\n",
    "fp = init.TargetPath(fn)\n",
    "\n",
    "print(f'Loading file {fn} in path: \\n {fp} \\n \\n')\n",
    "dc = JEPL.DataContainer(init, pdfu = init.TXT_reader(target_path=fp))\n",
    "dc.ShowDatasets()"
   ]
  },
  {
   "cell_type": "code",
   "execution_count": 4,
   "id": "0a46c94f-9d6f-4593-9e43-6e3dde3d086e",
   "metadata": {
    "tags": []
   },
   "outputs": [
    {
     "name": "stdout",
     "output_type": "stream",
     "text": [
      "Setting key in merged dataset with 650 columns.\n"
     ]
    }
   ],
   "source": [
    "dc.SetKey(['pdfu'], [['f4X3', 'f4X4', 'f4X5', 'f4X35'], ['f5X3', 'f5X4', 'f5X5', 'f5X35']])"
   ]
  },
  {
   "cell_type": "code",
   "execution_count": 5,
   "id": "336126e0-861d-4450-8792-0e4f6a03c57d",
   "metadata": {
    "tags": []
   },
   "outputs": [],
   "source": [
    "ks = dc.GetColKey(colnames=['Calving date (YYYYMMDD)', 'Lactation number for this record', 'Type of reproductive event', 'Date of reproductive event'])"
   ]
  },
  {
   "cell_type": "code",
   "execution_count": 6,
   "id": "3d8a60f9-e403-4ded-800f-8089d7d26f17",
   "metadata": {
    "tags": []
   },
   "outputs": [],
   "source": [
    "# The way how the function was designed.., i need to spliut by dataframe... overcomplication\n",
    "k4 = [k for k in ks if '4' == k[1]]\n",
    "k5 = [k for k in ks if '5' == k[1]]"
   ]
  },
  {
   "cell_type": "code",
   "execution_count": 7,
   "id": "14c8ef05-794d-4aba-9856-85aeac48ba52",
   "metadata": {
    "tags": []
   },
   "outputs": [
    {
     "name": "stdout",
     "output_type": "stream",
     "text": [
      "init: <class 'US25UW990JEPL_02.Initializer'> (Not a DataFrame) \n",
      "\n",
      "pdfu: <class 'pandas.core.frame.DataFrame'> with shape (23353, 651) \n",
      "\n",
      "sdf: <class 'pandas.core.frame.DataFrame'> with shape (20040, 44) \n",
      "\n"
     ]
    }
   ],
   "source": [
    "# overcomplication\n",
    "dc.GetSubset(dataset_name='pdfu', \n",
    "             colf4=k4, \n",
    "             colf5=k5, \n",
    "             n=20000,\n",
    "             lact='m', \n",
    "             seed=24, \n",
    "             save=False)"
   ]
  },
  {
   "cell_type": "markdown",
   "id": "b5a6b448-d37c-4683-be58-cd3990f21f0a",
   "metadata": {},
   "source": [
    "# I need to extract time of labeled subsequent reproductive events."
   ]
  },
  {
   "cell_type": "code",
   "execution_count": 9,
   "id": "c2060109-acb3-4e90-8a74-fca0e4413a2b",
   "metadata": {
    "tags": []
   },
   "outputs": [
    {
     "data": {
      "text/html": [
       "<div>\n",
       "<style scoped>\n",
       "    .dataframe tbody tr th:only-of-type {\n",
       "        vertical-align: middle;\n",
       "    }\n",
       "\n",
       "    .dataframe tbody tr th {\n",
       "        vertical-align: top;\n",
       "    }\n",
       "\n",
       "    .dataframe thead th {\n",
       "        text-align: right;\n",
       "    }\n",
       "</style>\n",
       "<table border=\"1\" class=\"dataframe\">\n",
       "  <thead>\n",
       "    <tr style=\"text-align: right;\">\n",
       "      <th></th>\n",
       "      <th>Key</th>\n",
       "      <th>f4X35</th>\n",
       "      <th>f4X43</th>\n",
       "      <th>f5X35</th>\n",
       "      <th>f5X37</th>\n",
       "      <th>f5X38</th>\n",
       "      <th>f5X52</th>\n",
       "      <th>f5X53</th>\n",
       "      <th>f5X67</th>\n",
       "      <th>f5X68</th>\n",
       "      <th>...</th>\n",
       "      <th>f5X262</th>\n",
       "      <th>f5X263</th>\n",
       "      <th>f5X277</th>\n",
       "      <th>f5X278</th>\n",
       "      <th>f5X292</th>\n",
       "      <th>f5X293</th>\n",
       "      <th>f5X307</th>\n",
       "      <th>f5X308</th>\n",
       "      <th>f5X322</th>\n",
       "      <th>f5X323</th>\n",
       "    </tr>\n",
       "  </thead>\n",
       "  <tbody>\n",
       "    <tr>\n",
       "      <th>0</th>\n",
       "      <td>JE               20120216</td>\n",
       "      <td>20120216</td>\n",
       "      <td>01</td>\n",
       "      <td>20120216</td>\n",
       "      <td>A</td>\n",
       "      <td>20120421</td>\n",
       "      <td>P</td>\n",
       "      <td>20120703</td>\n",
       "      <td></td>\n",
       "      <td></td>\n",
       "      <td>...</td>\n",
       "      <td></td>\n",
       "      <td></td>\n",
       "      <td></td>\n",
       "      <td></td>\n",
       "      <td></td>\n",
       "      <td></td>\n",
       "      <td></td>\n",
       "      <td></td>\n",
       "      <td></td>\n",
       "      <td></td>\n",
       "    </tr>\n",
       "    <tr>\n",
       "      <th>1</th>\n",
       "      <td>JE               20161013</td>\n",
       "      <td>20161013</td>\n",
       "      <td>02</td>\n",
       "      <td>20161013</td>\n",
       "      <td>G</td>\n",
       "      <td>20161210</td>\n",
       "      <td>O</td>\n",
       "      <td>20170403</td>\n",
       "      <td>G</td>\n",
       "      <td>20170426</td>\n",
       "      <td>...</td>\n",
       "      <td></td>\n",
       "      <td></td>\n",
       "      <td></td>\n",
       "      <td></td>\n",
       "      <td></td>\n",
       "      <td></td>\n",
       "      <td></td>\n",
       "      <td></td>\n",
       "      <td></td>\n",
       "      <td></td>\n",
       "    </tr>\n",
       "    <tr>\n",
       "      <th>2</th>\n",
       "      <td>JE               20210726</td>\n",
       "      <td>20210726</td>\n",
       "      <td>03</td>\n",
       "      <td>20210726</td>\n",
       "      <td>A</td>\n",
       "      <td>20211021</td>\n",
       "      <td>P</td>\n",
       "      <td>20211119</td>\n",
       "      <td></td>\n",
       "      <td></td>\n",
       "      <td>...</td>\n",
       "      <td></td>\n",
       "      <td></td>\n",
       "      <td></td>\n",
       "      <td></td>\n",
       "      <td></td>\n",
       "      <td></td>\n",
       "      <td></td>\n",
       "      <td></td>\n",
       "      <td></td>\n",
       "      <td></td>\n",
       "    </tr>\n",
       "    <tr>\n",
       "      <th>3</th>\n",
       "      <td>JE84000006726960620160505</td>\n",
       "      <td>20160505</td>\n",
       "      <td>01</td>\n",
       "      <td>20160505</td>\n",
       "      <td>H</td>\n",
       "      <td>20160705</td>\n",
       "      <td>G</td>\n",
       "      <td>20160716</td>\n",
       "      <td>G</td>\n",
       "      <td>20160810</td>\n",
       "      <td>...</td>\n",
       "      <td></td>\n",
       "      <td></td>\n",
       "      <td></td>\n",
       "      <td></td>\n",
       "      <td></td>\n",
       "      <td></td>\n",
       "      <td></td>\n",
       "      <td></td>\n",
       "      <td></td>\n",
       "      <td></td>\n",
       "    </tr>\n",
       "    <tr>\n",
       "      <th>4</th>\n",
       "      <td>JE84000006754087220151208</td>\n",
       "      <td>20151208</td>\n",
       "      <td>02</td>\n",
       "      <td>20151208</td>\n",
       "      <td>A</td>\n",
       "      <td>20160208</td>\n",
       "      <td>P</td>\n",
       "      <td>20160311</td>\n",
       "      <td></td>\n",
       "      <td></td>\n",
       "      <td>...</td>\n",
       "      <td></td>\n",
       "      <td></td>\n",
       "      <td></td>\n",
       "      <td></td>\n",
       "      <td></td>\n",
       "      <td></td>\n",
       "      <td></td>\n",
       "      <td></td>\n",
       "      <td></td>\n",
       "      <td></td>\n",
       "    </tr>\n",
       "  </tbody>\n",
       "</table>\n",
       "<p>5 rows × 44 columns</p>\n",
       "</div>"
      ],
      "text/plain": [
       "                         Key     f4X35 f4X43     f5X35 f5X37     f5X38 f5X52  \\\n",
       "0  JE               20120216  20120216    01  20120216     A  20120421     P   \n",
       "1  JE               20161013  20161013    02  20161013     G  20161210     O   \n",
       "2  JE               20210726  20210726    03  20210726     A  20211021     P   \n",
       "3  JE84000006726960620160505  20160505    01  20160505     H  20160705     G   \n",
       "4  JE84000006754087220151208  20151208    02  20151208     A  20160208     P   \n",
       "\n",
       "      f5X53 f5X67     f5X68  ... f5X262    f5X263 f5X277    f5X278 f5X292  \\\n",
       "0  20120703                  ...                                            \n",
       "1  20170403     G  20170426  ...                                            \n",
       "2  20211119                  ...                                            \n",
       "3  20160716     G  20160810  ...                                            \n",
       "4  20160311                  ...                                            \n",
       "\n",
       "     f5X293 f5X307    f5X308 f5X322    f5X323  \n",
       "0                                              \n",
       "1                                              \n",
       "2                                              \n",
       "3                                              \n",
       "4                                              \n",
       "\n",
       "[5 rows x 44 columns]"
      ]
     },
     "execution_count": 9,
     "metadata": {},
     "output_type": "execute_result"
    }
   ],
   "source": [
    "dc.sdf.head()"
   ]
  },
  {
   "cell_type": "markdown",
   "id": "2460e98c-a63e-482c-b771-bd82619043c2",
   "metadata": {},
   "source": [
    "# Update:\n",
    "I want to see the interval calving first reproductive event. This is labeled as voluntary waiting period."
   ]
  },
  {
   "cell_type": "code",
   "execution_count": 8,
   "id": "b611f4ae-c0a1-424a-9d7a-d5b38f861036",
   "metadata": {
    "tags": []
   },
   "outputs": [
    {
     "data": {
      "text/html": [
       "<div>\n",
       "<style scoped>\n",
       "    .dataframe tbody tr th:only-of-type {\n",
       "        vertical-align: middle;\n",
       "    }\n",
       "\n",
       "    .dataframe tbody tr th {\n",
       "        vertical-align: top;\n",
       "    }\n",
       "\n",
       "    .dataframe thead th {\n",
       "        text-align: right;\n",
       "    }\n",
       "</style>\n",
       "<table border=\"1\" class=\"dataframe\">\n",
       "  <thead>\n",
       "    <tr style=\"text-align: right;\">\n",
       "      <th></th>\n",
       "      <th>Key</th>\n",
       "      <th>f4X35</th>\n",
       "      <th>f4X43</th>\n",
       "      <th>f5X35</th>\n",
       "      <th>f5X37</th>\n",
       "      <th>f5X38</th>\n",
       "      <th>f5X52</th>\n",
       "      <th>f5X53</th>\n",
       "      <th>f5X67</th>\n",
       "      <th>f5X68</th>\n",
       "      <th>...</th>\n",
       "      <th>f5X262</th>\n",
       "      <th>f5X263</th>\n",
       "      <th>f5X277</th>\n",
       "      <th>f5X278</th>\n",
       "      <th>f5X292</th>\n",
       "      <th>f5X293</th>\n",
       "      <th>f5X307</th>\n",
       "      <th>f5X308</th>\n",
       "      <th>f5X322</th>\n",
       "      <th>f5X323</th>\n",
       "    </tr>\n",
       "  </thead>\n",
       "  <tbody>\n",
       "    <tr>\n",
       "      <th>0</th>\n",
       "      <td>JE               20120216</td>\n",
       "      <td>20120216</td>\n",
       "      <td>01</td>\n",
       "      <td>20120216</td>\n",
       "      <td>A</td>\n",
       "      <td>20120421</td>\n",
       "      <td>P</td>\n",
       "      <td>20120703</td>\n",
       "      <td></td>\n",
       "      <td></td>\n",
       "      <td>...</td>\n",
       "      <td></td>\n",
       "      <td></td>\n",
       "      <td></td>\n",
       "      <td></td>\n",
       "      <td></td>\n",
       "      <td></td>\n",
       "      <td></td>\n",
       "      <td></td>\n",
       "      <td></td>\n",
       "      <td></td>\n",
       "    </tr>\n",
       "    <tr>\n",
       "      <th>1</th>\n",
       "      <td>JE               20161013</td>\n",
       "      <td>20161013</td>\n",
       "      <td>02</td>\n",
       "      <td>20161013</td>\n",
       "      <td>G</td>\n",
       "      <td>20161210</td>\n",
       "      <td>O</td>\n",
       "      <td>20170403</td>\n",
       "      <td>G</td>\n",
       "      <td>20170426</td>\n",
       "      <td>...</td>\n",
       "      <td></td>\n",
       "      <td></td>\n",
       "      <td></td>\n",
       "      <td></td>\n",
       "      <td></td>\n",
       "      <td></td>\n",
       "      <td></td>\n",
       "      <td></td>\n",
       "      <td></td>\n",
       "      <td></td>\n",
       "    </tr>\n",
       "    <tr>\n",
       "      <th>2</th>\n",
       "      <td>JE               20210726</td>\n",
       "      <td>20210726</td>\n",
       "      <td>03</td>\n",
       "      <td>20210726</td>\n",
       "      <td>A</td>\n",
       "      <td>20211021</td>\n",
       "      <td>P</td>\n",
       "      <td>20211119</td>\n",
       "      <td></td>\n",
       "      <td></td>\n",
       "      <td>...</td>\n",
       "      <td></td>\n",
       "      <td></td>\n",
       "      <td></td>\n",
       "      <td></td>\n",
       "      <td></td>\n",
       "      <td></td>\n",
       "      <td></td>\n",
       "      <td></td>\n",
       "      <td></td>\n",
       "      <td></td>\n",
       "    </tr>\n",
       "    <tr>\n",
       "      <th>3</th>\n",
       "      <td>JE84000006726960620160505</td>\n",
       "      <td>20160505</td>\n",
       "      <td>01</td>\n",
       "      <td>20160505</td>\n",
       "      <td>H</td>\n",
       "      <td>20160705</td>\n",
       "      <td>G</td>\n",
       "      <td>20160716</td>\n",
       "      <td>G</td>\n",
       "      <td>20160810</td>\n",
       "      <td>...</td>\n",
       "      <td></td>\n",
       "      <td></td>\n",
       "      <td></td>\n",
       "      <td></td>\n",
       "      <td></td>\n",
       "      <td></td>\n",
       "      <td></td>\n",
       "      <td></td>\n",
       "      <td></td>\n",
       "      <td></td>\n",
       "    </tr>\n",
       "    <tr>\n",
       "      <th>4</th>\n",
       "      <td>JE84000006754087220151208</td>\n",
       "      <td>20151208</td>\n",
       "      <td>02</td>\n",
       "      <td>20151208</td>\n",
       "      <td>A</td>\n",
       "      <td>20160208</td>\n",
       "      <td>P</td>\n",
       "      <td>20160311</td>\n",
       "      <td></td>\n",
       "      <td></td>\n",
       "      <td>...</td>\n",
       "      <td></td>\n",
       "      <td></td>\n",
       "      <td></td>\n",
       "      <td></td>\n",
       "      <td></td>\n",
       "      <td></td>\n",
       "      <td></td>\n",
       "      <td></td>\n",
       "      <td></td>\n",
       "      <td></td>\n",
       "    </tr>\n",
       "  </tbody>\n",
       "</table>\n",
       "<p>5 rows × 44 columns</p>\n",
       "</div>"
      ],
      "text/plain": [
       "                         Key     f4X35 f4X43     f5X35 f5X37     f5X38 f5X52  \\\n",
       "0  JE               20120216  20120216    01  20120216     A  20120421     P   \n",
       "1  JE               20161013  20161013    02  20161013     G  20161210     O   \n",
       "2  JE               20210726  20210726    03  20210726     A  20211021     P   \n",
       "3  JE84000006726960620160505  20160505    01  20160505     H  20160705     G   \n",
       "4  JE84000006754087220151208  20151208    02  20151208     A  20160208     P   \n",
       "\n",
       "      f5X53 f5X67     f5X68  ... f5X262    f5X263 f5X277    f5X278 f5X292  \\\n",
       "0  20120703                  ...                                            \n",
       "1  20170403     G  20170426  ...                                            \n",
       "2  20211119                  ...                                            \n",
       "3  20160716     G  20160810  ...                                            \n",
       "4  20160311                  ...                                            \n",
       "\n",
       "     f5X293 f5X307    f5X308 f5X322    f5X323  \n",
       "0                                              \n",
       "1                                              \n",
       "2                                              \n",
       "3                                              \n",
       "4                                              \n",
       "\n",
       "[5 rows x 44 columns]"
      ]
     },
     "execution_count": 8,
     "metadata": {},
     "output_type": "execute_result"
    }
   ],
   "source": [
    "df = dc.sdf # simplify \n",
    "df.head()"
   ]
  },
  {
   "cell_type": "code",
   "execution_count": 11,
   "id": "cf0e9fb1-c10a-4956-a3b2-a73ce2325b1d",
   "metadata": {
    "tags": []
   },
   "outputs": [
    {
     "data": {
      "text/plain": [
       "(20044, 44)"
      ]
     },
     "execution_count": 11,
     "metadata": {},
     "output_type": "execute_result"
    }
   ],
   "source": [
    "df.shape"
   ]
  },
  {
   "cell_type": "markdown",
   "id": "348e8c80-e681-42e3-b98f-57c2e69c2e80",
   "metadata": {},
   "source": [
    "# Interval Pregnancy Calcing\n",
    "- Get proportion of nulliparous and multiparous.\n",
    "- Get proportion of ID-Lact ending reproductive sequence with P\n",
    "- Get proportion of animals with 1 or more lactations.\n",
    "- Among animals with multiple lactations, get difference between subsequent recorded lactations. Plot barplot. We should expect all 1.\n",
    "- Among animals having two sequential lactations with diff 1, get interval between date last reproductive event and subsequent calving date. We should expect 9*30 "
   ]
  },
  {
   "cell_type": "markdown",
   "id": "209f941c-7e58-4c1e-b20d-39e8f9b4e9f8",
   "metadata": {},
   "source": [
    "- Latter I will correct the staff related to shared columns. They must have consistent information.\n",
    "- Another potential issue.., is that key is the concatenation of raw information. Errors in YYYYDDMM may lead to differnt keys."
   ]
  },
  {
   "cell_type": "code",
   "execution_count": 9,
   "id": "5213cce4-363a-45c6-b902-fc0090efcfb7",
   "metadata": {
    "tags": []
   },
   "outputs": [],
   "source": [
    "c = []\n",
    "for row in df.itertuples():\n",
    "    if row.f4X35 == 'n'*8 and row.f5X35 == 'n'*8:\n",
    "        print('error in condition 1')\n",
    "        assert False\n",
    "    elif row.f4X35 == 'n'*8 and row.f5X35.isdigit() and len(row.f5X35) == 8:\n",
    "        c.append(row.f5X35)\n",
    "    elif row.f4X35 == 'n'*8 and row.f5X35 == ' '*8:\n",
    "        c.append(row.f5X35)\n",
    "    elif row.f4X35.isdigit() and len(row.f4X35) == 8 and row.f5X35 == 'n'*8:\n",
    "        c.append(row.f4X35)\n",
    "    elif row.f4X35.isdigit() and len(row.f4X35) == 8 and row.f5X35.isdigit() and len(row.f5X35) == 8:\n",
    "        c.append(row.f4X35)\n",
    "    elif row.f4X35.isdigit() and len(row.f4X35) == 8 and row.f5X35 == ' '*8:\n",
    "        print('error in condition 6')\n",
    "        assert False\n",
    "    elif row.f4X35 == ' '*8 and row.f5X35 == 'n'*8:\n",
    "        c.append(row.f4X35)\n",
    "    elif row.f4X35 == ' '*8 and row.f5X35.isdigit() and len(row.f5X35) == 8:\n",
    "        print('error in condition 8')\n",
    "        assert False\n",
    "    elif row.f4X35 == ' '*8 and row.f5X35 == ' '*8:\n",
    "        c.append(row.f4X35)\n",
    "    else:\n",
    "        print('Something unexpected is happening.')\n",
    "        assert False\n",
    "\n",
    "df['f4X35'] = c"
   ]
  },
  {
   "cell_type": "code",
   "execution_count": 10,
   "id": "3da04581-ed95-4820-b3e9-b88820bfff5c",
   "metadata": {},
   "outputs": [
    {
     "data": {
      "image/png": "[encoded data removed]",
      "text/plain": [
       "<Figure size 1000x600 with 1 Axes>"
      ]
     },
     "metadata": {},
     "output_type": "display_data"
    }
   ],
   "source": [
    "import matplotlib.pyplot as plt\n",
    "\n",
    "# Get value counts\n",
    "vc = df['f4X43'].value_counts()\n",
    "vc = vc.sort_index()\n",
    "\n",
    "# Plot\n",
    "plt.figure(figsize=(10, 6))\n",
    "bars = plt.bar(vc.index.astype(str), vc.values, color='skyblue')\n",
    "\n",
    "# Add labels on top of bars\n",
    "for bar in bars:\n",
    "    yval = bar.get_height()\n",
    "    plt.text(bar.get_x() + bar.get_width()/2, yval + 0.5, int(yval), ha='center', va='bottom', fontsize=9)\n",
    "\n",
    "# Customize plot\n",
    "plt.title(f'Counts of Unique Lactations Raw Values (N = {sum(vc):,})')\n",
    "plt.xlabel('Lactation number')\n",
    "plt.ylabel('Count')\n",
    "plt.tight_layout()\n",
    "plt.show()"
   ]
  },
  {
   "cell_type": "code",
   "execution_count": 11,
   "id": "d891c780-0041-4d1a-ab1a-2521a1426185",
   "metadata": {
    "tags": []
   },
   "outputs": [
    {
     "name": "stdout",
     "output_type": "stream",
     "text": [
      "Proportion of nulliparous over total: 4.0 %\n"
     ]
    }
   ],
   "source": [
    "print(f\"Proportion of nulliparous over total: {100*sum(df['f4X43'] == '00')/df.shape[0]:.2} %\")"
   ]
  },
  {
   "cell_type": "markdown",
   "id": "e02e70f7-fc13-4e5d-9ddb-5637b0894901",
   "metadata": {},
   "source": [
    "# Number and proportion of Keys with reproductive event data."
   ]
  },
  {
   "cell_type": "code",
   "execution_count": 12,
   "id": "58269033-f4eb-44ce-89cf-33a47be23c16",
   "metadata": {
    "tags": []
   },
   "outputs": [
    {
     "name": "stdout",
     "output_type": "stream",
     "text": [
      "16156\n",
      "3884\n",
      "80.6187624750499\n",
      "19.381237524950098\n"
     ]
    }
   ],
   "source": [
    "print(sum(df['f5X37'] != 'n'))\n",
    "print(sum(df['f5X37'] == 'n'))\n",
    "print(100*sum(df['f5X37'] != 'n')/df.shape[0])\n",
    "print(100*sum(df['f5X37'] == 'n')/df.shape[0])"
   ]
  },
  {
   "cell_type": "markdown",
   "id": "cdd5d96e-0dee-43e8-9eb9-a904aa8ef05a",
   "metadata": {},
   "source": [
    "# Among animals with reproductive data:\n",
    "Show number of ID-Lactation which reproductive sequence ends in pregnancy success."
   ]
  },
  {
   "cell_type": "code",
   "execution_count": 13,
   "id": "1223ecf0-1a2a-41d3-bab8-0a65a15aa1c4",
   "metadata": {
    "tags": []
   },
   "outputs": [],
   "source": [
    "sk5 = [k5[i] for i in range(len(k5)) if i % 2 == 1]"
   ]
  },
  {
   "cell_type": "code",
   "execution_count": 14,
   "id": "2a9a50a0-a075-4940-b014-69141b74bea7",
   "metadata": {
    "tags": []
   },
   "outputs": [],
   "source": [
    "cc = df[sk5].map(str.rstrip).agg(''.join, axis=1)\n",
    "lc = cc.apply(lambda x: x[-1] if x else '')"
   ]
  },
  {
   "cell_type": "code",
   "execution_count": 15,
   "id": "b0c841f0-0c08-4283-854e-0875ad69b52a",
   "metadata": {
    "tags": []
   },
   "outputs": [
    {
     "data": {
      "image/png": "[encoded data removed]",
      "text/plain": [
       "<Figure size 1000x600 with 1 Axes>"
      ]
     },
     "metadata": {},
     "output_type": "display_data"
    }
   ],
   "source": [
    "import pandas as pd\n",
    "v_df = pd.DataFrame(lc, columns=['Last Type of Reproductive Event'])\n",
    "\n",
    "vc = v_df['Last Type of Reproductive Event'].value_counts().sort_values(ascending=False)\n",
    "\n",
    "plt.figure(figsize=(10, 6))\n",
    "bars = plt.bar(vc.index.astype(str), vc.values, color='skyblue')\n",
    "\n",
    "for bar in bars:\n",
    "    yval = bar.get_height()\n",
    "    plt.text(bar.get_x() + bar.get_width()/2, yval + 0.5, int(yval), ha='center', va='bottom', fontsize=9)\n",
    "\n",
    "plt.title(f'Counts of Last Type of Reproductive Event (N = {sum(vc):,})')\n",
    "plt.xlabel('Type of Reproductive Event')\n",
    "plt.ylabel('Count'),\n",
    "plt.tight_layout()\n",
    "plt.show()"
   ]
  },
  {
   "cell_type": "code",
   "execution_count": 21,
   "id": "dac25e22-ac5c-4028-b75d-0daea6bb0b47",
   "metadata": {
    "tags": []
   },
   "outputs": [
    {
     "name": "stdout",
     "output_type": "stream",
     "text": [
      "Percentage of ID-LACT's ending reproductive events with recorded P: 61.89 %\n"
     ]
    }
   ],
   "source": [
    "print(f\"Percentage of ID-LACT's ending reproductive events with recorded P: {100*int(vc['P'])/df.shape[0]:.2f} %\")"
   ]
  },
  {
   "cell_type": "markdown",
   "id": "5a7f2a82-f80c-45cd-aefb-67d860445d07",
   "metadata": {},
   "source": [
    "# Proportion of animals with one or more lactations."
   ]
  },
  {
   "cell_type": "code",
   "execution_count": 16,
   "id": "61855296-2886-46e5-a83b-a81ac8b5a4e5",
   "metadata": {
    "tags": []
   },
   "outputs": [
    {
     "name": "stdout",
     "output_type": "stream",
     "text": [
      "number of unique IDs = 19,705\n",
      "Number of unique IDs with multiple lactations = 166\n",
      "Number of unique IDs with a unique recorded lactation = 19,539\n",
      "% of unique IDs with multiples lactations = 0.84\n",
      "% of unique IDs single lactation = 99.16\n"
     ]
    }
   ],
   "source": [
    "# assume key is perfect. I know I need to do corrections here. But carry on.\n",
    "d = {}\n",
    "for row in df.itertuples():\n",
    "    if row.Key[:-8] not in d.keys():\n",
    "        d[row.Key[:-8]] = 1\n",
    "    else:\n",
    "        d[row.Key[:-8]] += 1\n",
    "\n",
    "        \n",
    "c1 = 0\n",
    "c2 = 0\n",
    "for k in d:\n",
    "    if d[k] == 1:\n",
    "        c1 += 1\n",
    "    else:\n",
    "        c2 += 1\n",
    "\n",
    "print(f'number of unique IDs = {c1:,}')\n",
    "print(f'Number of unique IDs with multiple lactations = {c2:,}')\n",
    "print(f'Number of unique IDs with a unique recorded lactation = {c1-c2:,}')\n",
    "print(f'% of unique IDs with multiples lactations = {100*c2/(c1+c2):.2f}')\n",
    "print(f'% of unique IDs single lactation = {100*c1/(c1+c2):.2f}')"
   ]
  },
  {
   "cell_type": "markdown",
   "id": "b06adb0a-ccad-4076-aece-09639475e32a",
   "metadata": {
    "tags": []
   },
   "source": [
    "# Target animals with multiple lactations.\n",
    "Get difference between subsequent lactation. I should expect 1."
   ]
  },
  {
   "cell_type": "code",
   "execution_count": 17,
   "id": "e7ca6070-c789-42ae-bc8d-c52a07ae8554",
   "metadata": {
    "tags": []
   },
   "outputs": [],
   "source": [
    "v = []\n",
    "n = df.shape[0]\n",
    "i=0\n",
    "while i + 1 < n:\n",
    "    ki = df.at[i, 'Key']\n",
    "    kf = df.at[i+1, 'Key']\n",
    "    if ki[:-8] == kf[:-8]:\n",
    "        li = df.at[i, 'f4X43']\n",
    "        lf = df.at[i+1, 'f4X43']\n",
    "        if li.isdigit() and lf.isdigit():\n",
    "            v.append(int(lf) - int(li))\n",
    "        i += 1\n",
    "        continue\n",
    "    else:\n",
    "        i += 1\n",
    "        continue"
   ]
  },
  {
   "cell_type": "code",
   "execution_count": 18,
   "id": "1b821d40-9097-4153-921b-ea07f107879c",
   "metadata": {
    "tags": []
   },
   "outputs": [
    {
     "data": {
      "image/png": "[encoded data removed]",
      "text/plain": [
       "<Figure size 1000x600 with 1 Axes>"
      ]
     },
     "metadata": {},
     "output_type": "display_data"
    }
   ],
   "source": [
    "import pandas as pd\n",
    "v_df = pd.DataFrame(v, columns=['Difference'])\n",
    "\n",
    "vc = v_df['Difference'].value_counts().sort_index()\n",
    "\n",
    "plt.figure(figsize=(10, 6))\n",
    "bars = plt.bar(vc.index.astype(str), vc.values, color='skyblue')\n",
    "\n",
    "for bar in bars:\n",
    "    yval = bar.get_height()\n",
    "    plt.text(bar.get_x() + bar.get_width()/2, yval + 0.5, int(yval), ha='center', va='bottom', fontsize=9)\n",
    "\n",
    "plt.title(f'Counts of Difference Between Consecutive Raw Lactation Values (N = {sum(vc):,})')\n",
    "plt.xlabel('Difference')\n",
    "plt.ylabel('Count')\n",
    "plt.tight_layout()\n",
    "plt.show()"
   ]
  },
  {
   "cell_type": "markdown",
   "id": "ecd24b39-8d79-4b9a-a2b8-3d55992932c0",
   "metadata": {},
   "source": [
    "# Among events with consecutive lactations:\n",
    "- Proportion of previous events ending with P\n",
    "- Interval P next calving.\n"
   ]
  },
  {
   "cell_type": "code",
   "execution_count": 19,
   "id": "99b29ee7-5c77-4fd1-95d0-9e54b0d9f7d1",
   "metadata": {
    "tags": []
   },
   "outputs": [
    {
     "name": "stdout",
     "output_type": "stream",
     "text": [
      "Total number of consecutive lactation pairs: 86\n",
      "Total number of consecutive lactation pairs with a confirmed pregnancy check: 72\n",
      "Percentage of consecutive lactation pairs with a confirmed pregnancy check: 83.72\n"
     ]
    }
   ],
   "source": [
    "cp = 0\n",
    "ca = 0\n",
    "i = 0\n",
    "n = df.shape[0]\n",
    "while i + 1 < n:\n",
    "    ki = df.at[i, 'Key']\n",
    "    kf = df.at[i+1, 'Key']\n",
    "    if ki[:-8] == kf[:-8]:\n",
    "        li = df.at[i, 'f4X43']\n",
    "        lf = df.at[i+1, 'f4X43']\n",
    "        if li.isdigit() and lf.isdigit() and int(lf) - int(li) == 1:\n",
    "            ca += 1\n",
    "            rr = df[sk5].iloc[i]\n",
    "            rc = ''.join(rr.str.rstrip())\n",
    "            rf = rc[-1] if rc else ''\n",
    "            if 'P' == rf:\n",
    "                cp += 1\n",
    "                i += 1\n",
    "            else:\n",
    "                i += 1\n",
    "        else:\n",
    "            i += 1\n",
    "    else:\n",
    "        i += 1\n",
    "print(f'Total number of consecutive lactation pairs: {ca:,}')\n",
    "print(f'Total number of consecutive lactation pairs with a confirmed pregnancy check: {cp:,}')\n",
    "print(f'Percentage of consecutive lactation pairs with a confirmed pregnancy check: {100*cp/ca:.2f}')"
   ]
  },
  {
   "cell_type": "markdown",
   "id": "970eef8f-f3f2-47a7-8432-c06fdbb5ea17",
   "metadata": {},
   "source": [
    "# Among events with consecutive lactations:\n",
    "Target last recorded reproductive event that is not P and show frequency distribution of such event."
   ]
  },
  {
   "cell_type": "code",
   "execution_count": 20,
   "id": "1773d373-1d59-4852-9f1c-fdf6c2ed753c",
   "metadata": {
    "tags": []
   },
   "outputs": [],
   "source": [
    "v = []\n",
    "i = 0\n",
    "n = df.shape[0]\n",
    "while i + 1 < n:\n",
    "    ki = df.at[i, 'Key']\n",
    "    kf = df.at[i+1, 'Key']\n",
    "    if ki[:-8] == kf[:-8]:\n",
    "        li = df.at[i, 'f4X43']\n",
    "        lf = df.at[i+1, 'f4X43']\n",
    "        if li.isdigit() and lf.isdigit() and int(lf) - int(li) == 1:\n",
    "            rr = df[sk5].iloc[i]\n",
    "            rc = ''.join(rr.str.rstrip())\n",
    "            rf = rc[-1] if rc else ''\n",
    "            if 'P' != rf:\n",
    "                v.append(rf)\n",
    "                i += 1\n",
    "            else:\n",
    "                i += 1\n",
    "        else:\n",
    "            i += 1\n",
    "    else:\n",
    "        i += 1"
   ]
  },
  {
   "cell_type": "code",
   "execution_count": 21,
   "id": "b667144c-17b4-4830-9e81-56c931dbc859",
   "metadata": {
    "tags": []
   },
   "outputs": [
    {
     "data": {
      "image/png": "[encoded data removed]",
      "text/plain": [
       "<Figure size 1000x600 with 1 Axes>"
      ]
     },
     "metadata": {},
     "output_type": "display_data"
    }
   ],
   "source": [
    "v_df = pd.DataFrame(v, columns=['Other Categories Different than Pregnancy Confirmation'])\n",
    "\n",
    "vc = v_df['Other Categories Different than Pregnancy Confirmation'].value_counts().sort_values(ascending=False)\n",
    "\n",
    "plt.figure(figsize=(10, 6))\n",
    "bars = plt.bar(vc.index.astype(str), vc.values, color='skyblue')\n",
    "\n",
    "for bar in bars:\n",
    "    yval = bar.get_height()\n",
    "    plt.text(bar.get_x() + bar.get_width()/2, yval + 0.5, int(yval), ha='center', va='bottom', fontsize=9)\n",
    "\n",
    "plt.title(f'Counts of Other Categories Different than Pregnancy Confirmation (N = {sum(vc):,})')\n",
    "plt.xlabel('Other Categories Different than Pregnancy Confirmation')\n",
    "plt.ylabel('Count'),\n",
    "plt.tight_layout()\n",
    "plt.show()"
   ]
  },
  {
   "cell_type": "markdown",
   "id": "482dce53-eb91-41e5-ac83-80b71bb319d8",
   "metadata": {},
   "source": [
    "# Among consecutive lactations:\n",
    "- Interval Pregnancy check and calving\n",
    "Split histogram in 2:\n",
    "\n",
    "1- Show differences for these animals with recorded P - Calving.\n",
    "\n",
    "2- Show differences for these anumals with recorded notP - Calving."
   ]
  },
  {
   "cell_type": "code",
   "execution_count": 22,
   "id": "a9d2221f-45e0-4269-9d93-fa2f4df232bc",
   "metadata": {},
   "outputs": [],
   "source": [
    "kt = dc.GetColKey(colnames=['Type of reproductive event'])\n",
    "kd = dc.GetColKey(colnames=['Date of reproductive event'])\n",
    "vp = []\n",
    "vo = []\n",
    "i = 0\n",
    "n = df.shape[0]\n",
    "while i + 1 < n:\n",
    "    ki = df.at[i, 'Key']\n",
    "    kf = df.at[i+1, 'Key']\n",
    "    cd = df.at[i+1, 'f4X35']\n",
    "    if ki[:-8] == kf[:-8] and cd.isdigit():\n",
    "        li = df.at[i, 'f4X43']\n",
    "        lf = df.at[i+1, 'f4X43']\n",
    "        if li.isdigit() and lf.isdigit() and int(lf) - int(li) == 1:\n",
    "            z = 0\n",
    "            v = -1\n",
    "            while z + 1 <= len(kd):\n",
    "                rd = df.at[i, kd[z]]\n",
    "                if rd.isdigit():\n",
    "                    v = z\n",
    "                    z += 1\n",
    "                else:\n",
    "                    z += 1\n",
    "            if v != -1:\n",
    "                rt = df.at[i, kt[v]]\n",
    "                rd = df.at[i, kd[v]]\n",
    "                ld = datetime.strptime(rd, \"%Y%m%d\")\n",
    "                ud = datetime.strptime(cd, \"%Y%m%d\")\n",
    "                diff = (ud-ld).days\n",
    "                if 'P' == rt:\n",
    "                    vp.append(diff)\n",
    "                    i += 1\n",
    "                else:\n",
    "                    vo.append(diff)\n",
    "                    i += 1\n",
    "            else:\n",
    "                i += 1\n",
    "        else:\n",
    "            i += 1\n",
    "    else:\n",
    "        i += 1            "
   ]
  },
  {
   "cell_type": "markdown",
   "id": "5c6171b0-caff-4827-8c90-457ab0b5110c",
   "metadata": {},
   "source": [
    "# Plot result."
   ]
  },
  {
   "cell_type": "code",
   "execution_count": 23,
   "id": "32ce2dee-d8b5-4e62-b4e5-1c91ca891a1f",
   "metadata": {
    "tags": []
   },
   "outputs": [
    {
     "data": {
      "image/png": "[encoded data removed]",
      "text/plain": [
       "<Figure size 640x480 with 1 Axes>"
      ]
     },
     "metadata": {},
     "output_type": "display_data"
    }
   ],
   "source": [
    "import numpy as np\n",
    "be = np.arange(min(vp)-1, max(vp)+1)\n",
    "plt.hist(vp, bins=be, alpha=0.5, label=f'P-C (n = {len(vp)})', color='green')\n",
    "plt.hist(vo, bins=be, alpha=0.5, label=f'*-C (n = {len(vo)})', color='red')\n",
    "plt.legend()\n",
    "plt.title(f\"Histogram (N = {len(vp) + len(vo)})\")\n",
    "plt.xlabel(\"Interval Last Reproductive Event to Calving.\")\n",
    "plt.ylabel(\"Frequency\")\n",
    "plt.show()\n",
    "plt.close()"
   ]
  }
 ],
 "metadata": {
  "kernelspec": {
   "display_name": "Python 3 (ipykernel)",
   "language": "python",
   "name": "python3"
  },
  "language_info": {
   "codemirror_mode": {
    "name": "ipython",
    "version": 3
   },
   "file_extension": ".py",
   "mimetype": "text/x-python",
   "name": "python",
   "nbconvert_exporter": "python",
   "pygments_lexer": "ipython3",
   "version": "3.11.3"
  }
 },
 "nbformat": 4,
 "nbformat_minor": 5
}
