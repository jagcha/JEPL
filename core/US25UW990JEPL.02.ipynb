{
 "cells": [
  {
   "cell_type": "markdown",
   "id": "e4a80441-89dd-47b9-933f-30879d8c4f19",
   "metadata": {},
   "source": [
    "# Testing modular approach and master script for step integration\n",
    "\n",
    "The idea is to integrate all my analysis in a single script.\n",
    "The idea is to be tidy and consistent, andp rovide a sequential set of steps that would make anyone underastand what I did and how I reach my conclusiopns.\n",
    "Eventually, this script could be uploaded in something like a git repository."
   ]
  },
  {
   "cell_type": "code",
   "execution_count": 1,
   "id": "1a1e5433-532e-4d8a-af5d-9db00680cdc1",
   "metadata": {
    "tags": []
   },
   "outputs": [],
   "source": [
    "import US25UW990JEPL_02 as JEPL\n",
    "import copy\n",
    "t=1"
   ]
  },
  {
   "cell_type": "code",
   "execution_count": 2,
   "id": "53d67fc3-1b98-48c3-9cfe-cf47e04242a9",
   "metadata": {
    "tags": []
   },
   "outputs": [
    {
     "name": "stdout",
     "output_type": "stream",
     "text": [
      "Initialization: \n",
      "\n",
      "Code ipykernel_launcher.py starts. \n",
      "Codes executed when testing is 1. \n",
      "Running program in /blue/mateescu/agustinchasco/Projects/reprojersey/core. \n",
      "Reading data in /blue/mateescu/agustinchasco/Projects/reprojersey/data. \n",
      "Saving data in /blue/mateescu/agustinchasco/Projects/reprojersey/data. \n",
      "Time profiling starts. Program executed on 04-03-2025 at 04:02 PM EST.\n",
      "\n",
      "Path `/blue/mateescu/agustinchasco/Projects/reprojersey/data/ipykernel_launcher/test` already exists. \n",
      "\n",
      "Path `/blue/mateescu/agustinchasco/Projects/reprojersey/data/view` already exists. \n",
      "\n",
      "Loading map ipykernel_launcher_test_f4map.json in pathf4_map_path: \n",
      " /blue/mateescu/agustinchasco/Projects/reprojersey/data/ipykernel_launcher/test/ipykernel_launcher_test_f4map.json \n",
      " \n",
      "\n",
      "Loading map ipykernel_launcher_test_f5map.json in pathf5_map_path: \n",
      " /blue/mateescu/agustinchasco/Projects/reprojersey/data/ipykernel_launcher/test/ipykernel_launcher_test_f5map.json \n",
      " \n",
      "\n",
      "Creation of master map ipykernel_launcher_test_fmap.json in path: \n",
      " /blue/mateescu/agustinchasco/Projects/reprojersey/data/ipykernel_launcher/test/ipykernel_launcher_test_fmap.json \n",
      " \n",
      "\n",
      "HTML map file named ipykernel_launcher_test_fmap.html saved in pat: \n",
      " /blue/mateescu/agustinchasco/Projects/reprojersey/data/ipykernel_launcher/test/ipykernel_launcher_test_fmap.html \n",
      " \n",
      "\n"
     ]
    }
   ],
   "source": [
    "init = JEPL.Initializer(data_path='/blue/mateescu/agustinchasco/Projects/reprojersey/data',\n",
    "                        code_path='/blue/mateescu/agustinchasco/Projects/reprojersey/core',\n",
    "                        testing=t)\n",
    "\n",
    "init.Directories()\n",
    "init.GetFormatMap()"
   ]
  },
  {
   "cell_type": "code",
   "execution_count": 3,
   "id": "92e12382-0367-4516-815d-497d7994cf5a",
   "metadata": {
    "tags": []
   },
   "outputs": [
    {
     "name": "stdout",
     "output_type": "stream",
     "text": [
      "JEPL020101 activated when testing is 1. \n",
      "\n",
      "Loading file US25UW990JEPL.01_test_010601pdfu.txt in path: \n",
      " /blue/mateescu/agustinchasco/Projects/reprojersey/data/US25UW990JEPL.02/test/US25UW990JEPL.01_test_010601pdfu.txt \n",
      " \n",
      "\n",
      "init: <class 'US25UW990JEPL_02.Initializer'> (Not a DataFrame) \n",
      "\n",
      "pdfu: <class 'pandas.core.frame.DataFrame'> with shape (23353, 650) \n",
      "\n"
     ]
    }
   ],
   "source": [
    "print(f'JEPL020101 activated when testing is {init.t}. \\n')\n",
    "fn = ['US25UW990JEPL.01_impl_010601pdfu.txt', 'US25UW990JEPL.01_test_010601pdfu.txt'][init.t]\n",
    "fp = init.TargetPath(fn)\n",
    "\n",
    "print(f'Loading file {fn} in path: \\n {fp} \\n \\n')\n",
    "dc = JEPL.DataContainer(init, pdfu = init.TXT_reader(target_path=fp))\n",
    "dc.ShowDatasets()"
   ]
  },
  {
   "cell_type": "code",
   "execution_count": 4,
   "id": "0a46c94f-9d6f-4593-9e43-6e3dde3d086e",
   "metadata": {
    "tags": []
   },
   "outputs": [
    {
     "name": "stdout",
     "output_type": "stream",
     "text": [
      "Setting key in merged dataset with 650 columns.\n"
     ]
    }
   ],
   "source": [
    "dc.SetKey(['pdfu'], [['f4X3', 'f4X4', 'f4X5', 'f4X35'], ['f5X3', 'f5X4', 'f5X5', 'f5X35']])"
   ]
  },
  {
   "cell_type": "code",
   "execution_count": 5,
   "id": "2b970334-4fe3-40b1-8ef2-5334de0f07d3",
   "metadata": {
    "tags": []
   },
   "outputs": [
    {
     "data": {
      "text/plain": [
       "0    JE               20120216\n",
       "1    JE               20161013\n",
       "2    JE               20210726\n",
       "3    JE84000006726960620160505\n",
       "4    JE84000006754087220151208\n",
       "5    JE84000030025846120120726\n",
       "6    JE84000300058695420100922\n",
       "7    JE84000300095328920090828\n",
       "8    JE84000300116779120100913\n",
       "9    JE84000300122417820080202\n",
       "Name: Key, dtype: object"
      ]
     },
     "execution_count": 5,
     "metadata": {},
     "output_type": "execute_result"
    }
   ],
   "source": [
    "dc.pdfu['Key'][0:10]"
   ]
  },
  {
   "cell_type": "code",
   "execution_count": 9,
   "id": "81b0f66e-7b42-466a-8c73-d25e5c90025b",
   "metadata": {
    "tags": []
   },
   "outputs": [
    {
     "name": "stdout",
     "output_type": "stream",
     "text": [
      "cols are: \n",
      " ['f4X1', 'f4X3', 'f4X4', 'f4X5', 'f4X35', 'f4X50', 'f4X51', 'f5X40', 'f5X41', 'f5X42', 'f5X43', 'f5X45', 'Key'] \n",
      " \n",
      "\n",
      "mask.head(): \n",
      " 0    False\n",
      "1    False\n",
      "2    False\n",
      "3    False\n",
      "4    False\n",
      "Name: Key, dtype: bool \n",
      " \n",
      "\n",
      "init: <class 'US25UW990JEPL_02.Initializer'> (Not a DataFrame) \n",
      "\n",
      "pdfu: <class 'pandas.core.frame.DataFrame'> with shape (23353, 651) \n",
      "\n",
      "sdf: <class 'pandas.core.frame.DataFrame'> with shape (204, 13) \n",
      "\n",
      "Saving View in: \n",
      " /blue/mateescu/agustinchasco/Projects/reprojersey/core/ipykernel_launcher/test/ipykernel_launcher.html \n",
      " \n",
      "\n"
     ]
    }
   ],
   "source": [
    "dc.GetSubset(dataset_name='pdfu', \n",
    "             colf4=[1,3,4,5,35,50,51], \n",
    "             colf5=[40,41,42,43,45], \n",
    "             n=200,\n",
    "             lact='m', \n",
    "             seed=2)"
   ]
  },
  {
   "cell_type": "code",
   "execution_count": 9,
   "id": "56578585-a9cf-48bb-9e05-b83fecc7d6c6",
   "metadata": {
    "tags": []
   },
   "outputs": [],
   "source": [
    "import numpy as np"
   ]
  },
  {
   "cell_type": "code",
   "execution_count": 20,
   "id": "f0659697-b5dc-4817-8426-97c225890b1a",
   "metadata": {
    "tags": []
   },
   "outputs": [
    {
     "data": {
      "text/plain": [
       "'ef'"
      ]
     },
     "execution_count": 20,
     "metadata": {},
     "output_type": "execute_result"
    }
   ],
   "source": [
    "a = ['abcd', 'efdgh', 'asdf']\n",
    "a[1][:2]"
   ]
  },
  {
   "cell_type": "code",
   "execution_count": 11,
   "id": "bc129eff-889a-4887-a491-c67a1d51b23a",
   "metadata": {
    "tags": []
   },
   "outputs": [
    {
     "data": {
      "text/plain": [
       "0    False\n",
       "1    False\n",
       "2    False\n",
       "3    False\n",
       "4    False\n",
       "Name: Key, dtype: bool"
      ]
     },
     "execution_count": 11,
     "metadata": {},
     "output_type": "execute_result"
    }
   ],
   "source": [
    "n=10\n",
    "lacts = 'm'\n",
    "c = 17\n",
    "s = 12\n",
    "\n",
    "ks = list(set(dc.pdfu['Key']))\n",
    "np.random.seed(s)\n",
    "sks = np.random.choice(ks, size=n, replace=False)\n",
    "if lacts == 'm':\n",
    "    sks = [k[:c]for k in sks]\n",
    "    mask = dc.pdfu['Key'].apply(lambda k: k[:c]).isin(sks)\n",
    "elif lacts == 'u':\n",
    "    mask = dc.pdfu['Key'].isin(sks)\n",
    "\n",
    "mask.head()"
   ]
  },
  {
   "cell_type": "code",
   "execution_count": null,
   "id": "03dad396-87c6-4b75-91fa-f8281b078507",
   "metadata": {},
   "outputs": [],
   "source": [
    "def GetKeys(df, keys=None, n=10, lact='m'):\n",
    "    df ## Need to be replaced.\n",
    "    if 'Key' in df.columns:\n",
    "        continue\n",
    "    else:\n",
    "        ## Need \n",
    "        df.SetKey(['pdfu'], [['f4X3', 'f4X4', 'f4X5', 'f4X35'], ['f5X3', 'f5X4', 'f5X5', 'f5X35']])\n",
    "    "
   ]
  },
  {
   "cell_type": "code",
   "execution_count": 9,
   "id": "cecc2d32-5baa-4ca8-8279-e8be67452538",
   "metadata": {
    "tags": []
   },
   "outputs": [
    {
     "data": {
      "text/html": [
       "<div>\n",
       "<style scoped>\n",
       "    .dataframe tbody tr th:only-of-type {\n",
       "        vertical-align: middle;\n",
       "    }\n",
       "\n",
       "    .dataframe tbody tr th {\n",
       "        vertical-align: top;\n",
       "    }\n",
       "\n",
       "    .dataframe thead th {\n",
       "        text-align: right;\n",
       "    }\n",
       "</style>\n",
       "<table border=\"1\" class=\"dataframe\">\n",
       "  <thead>\n",
       "    <tr style=\"text-align: right;\">\n",
       "      <th></th>\n",
       "      <th>f5X1</th>\n",
       "      <th>f5X2</th>\n",
       "      <th>f5X3</th>\n",
       "      <th>f5X4</th>\n",
       "      <th>f5X5</th>\n",
       "      <th>f5X6</th>\n",
       "      <th>f5X7</th>\n",
       "      <th>f5X8</th>\n",
       "      <th>f5X9</th>\n",
       "    </tr>\n",
       "  </thead>\n",
       "  <tbody>\n",
       "    <tr>\n",
       "      <th>577</th>\n",
       "      <td>0</td>\n",
       "      <td>F</td>\n",
       "      <td>JE</td>\n",
       "      <td>840</td>\n",
       "      <td>003005175116</td>\n",
       "      <td>JE</td>\n",
       "      <td>USA</td>\n",
       "      <td>000115140569</td>\n",
       "      <td></td>\n",
       "    </tr>\n",
       "    <tr>\n",
       "      <th>2306</th>\n",
       "      <td>0</td>\n",
       "      <td>F</td>\n",
       "      <td>JE</td>\n",
       "      <td>840</td>\n",
       "      <td>003012434647</td>\n",
       "      <td>JE</td>\n",
       "      <td>USA</td>\n",
       "      <td>000115863998</td>\n",
       "      <td>JE</td>\n",
       "    </tr>\n",
       "    <tr>\n",
       "      <th>5058</th>\n",
       "      <td>0</td>\n",
       "      <td>F</td>\n",
       "      <td>JE</td>\n",
       "      <td>840</td>\n",
       "      <td>003137766621</td>\n",
       "      <td>JE</td>\n",
       "      <td>CAN</td>\n",
       "      <td>000010211025</td>\n",
       "      <td>JE</td>\n",
       "    </tr>\n",
       "    <tr>\n",
       "      <th>6732</th>\n",
       "      <td>0</td>\n",
       "      <td>F</td>\n",
       "      <td>JE</td>\n",
       "      <td>840</td>\n",
       "      <td>003150336355</td>\n",
       "      <td></td>\n",
       "      <td>USA</td>\n",
       "      <td>0000000003HJ</td>\n",
       "      <td></td>\n",
       "    </tr>\n",
       "    <tr>\n",
       "      <th>10693</th>\n",
       "      <td>0</td>\n",
       "      <td>F</td>\n",
       "      <td>JE</td>\n",
       "      <td>USA</td>\n",
       "      <td>000067075835</td>\n",
       "      <td>JE</td>\n",
       "      <td>USA</td>\n",
       "      <td>000112785428</td>\n",
       "      <td>JE</td>\n",
       "    </tr>\n",
       "    <tr>\n",
       "      <th>12081</th>\n",
       "      <td>0</td>\n",
       "      <td>F</td>\n",
       "      <td>JE</td>\n",
       "      <td>USA</td>\n",
       "      <td>000067354177</td>\n",
       "      <td>JE</td>\n",
       "      <td>USA</td>\n",
       "      <td>000114592064</td>\n",
       "      <td>JE</td>\n",
       "    </tr>\n",
       "    <tr>\n",
       "      <th>12225</th>\n",
       "      <td>0</td>\n",
       "      <td>F</td>\n",
       "      <td>JE</td>\n",
       "      <td>USA</td>\n",
       "      <td>000067393221</td>\n",
       "      <td>JE</td>\n",
       "      <td>CAN</td>\n",
       "      <td>000101483843</td>\n",
       "      <td>JE</td>\n",
       "    </tr>\n",
       "    <tr>\n",
       "      <th>16476</th>\n",
       "      <td>n</td>\n",
       "      <td>n</td>\n",
       "      <td>nn</td>\n",
       "      <td>nnn</td>\n",
       "      <td>nnnnnnnnnnnn</td>\n",
       "      <td>nn</td>\n",
       "      <td>nnn</td>\n",
       "      <td>nnnnnnnnnnnn</td>\n",
       "      <td>nn</td>\n",
       "    </tr>\n",
       "    <tr>\n",
       "      <th>20720</th>\n",
       "      <td>n</td>\n",
       "      <td>n</td>\n",
       "      <td>nn</td>\n",
       "      <td>nnn</td>\n",
       "      <td>nnnnnnnnnnnn</td>\n",
       "      <td>nn</td>\n",
       "      <td>nnn</td>\n",
       "      <td>nnnnnnnnnnnn</td>\n",
       "      <td>nn</td>\n",
       "    </tr>\n",
       "    <tr>\n",
       "      <th>22439</th>\n",
       "      <td>n</td>\n",
       "      <td>n</td>\n",
       "      <td>nn</td>\n",
       "      <td>nnn</td>\n",
       "      <td>nnnnnnnnnnnn</td>\n",
       "      <td>nn</td>\n",
       "      <td>nnn</td>\n",
       "      <td>nnnnnnnnnnnn</td>\n",
       "      <td>nn</td>\n",
       "    </tr>\n",
       "  </tbody>\n",
       "</table>\n",
       "</div>"
      ],
      "text/plain": [
       "      f5X1 f5X2 f5X3 f5X4          f5X5 f5X6 f5X7          f5X8 f5X9\n",
       "577      0    F   JE  840  003005175116   JE  USA  000115140569     \n",
       "2306     0    F   JE  840  003012434647   JE  USA  000115863998   JE\n",
       "5058     0    F   JE  840  003137766621   JE  CAN  000010211025   JE\n",
       "6732     0    F   JE  840  003150336355       USA  0000000003HJ     \n",
       "10693    0    F   JE  USA  000067075835   JE  USA  000112785428   JE\n",
       "12081    0    F   JE  USA  000067354177   JE  USA  000114592064   JE\n",
       "12225    0    F   JE  USA  000067393221   JE  CAN  000101483843   JE\n",
       "16476    n    n   nn  nnn  nnnnnnnnnnnn   nn  nnn  nnnnnnnnnnnn   nn\n",
       "20720    n    n   nn  nnn  nnnnnnnnnnnn   nn  nnn  nnnnnnnnnnnn   nn\n",
       "22439    n    n   nn  nnn  nnnnnnnnnnnn   nn  nnn  nnnnnnnnnnnn   nn"
      ]
     },
     "execution_count": 9,
     "metadata": {},
     "output_type": "execute_result"
    }
   ],
   "source": [
    "cols = ['f5X' + str(i) for i in range(1, 10)]\n",
    "sdf[cols]"
   ]
  },
  {
   "cell_type": "code",
   "execution_count": 25,
   "id": "f27420c1-bf1b-4a5d-be9a-a5c3d9947b43",
   "metadata": {
    "tags": []
   },
   "outputs": [
    {
     "name": "stdout",
     "output_type": "stream",
     "text": [
      "1\n",
      "1\n",
      "6\n",
      "6\n",
      "f4X1\n",
      "f5X6\n"
     ]
    }
   ],
   "source": [
    "f4 = [1]\n",
    "f5 = [6]\n",
    "if isinstance(f4, int):\n",
    "    f4 = [f4]\n",
    "if isinstance(f5, int):\n",
    "    f5 = [f5]\n",
    "    \n",
    "f4l = min(f4)\n",
    "f4u = max(f4)\n",
    "f5l = min(f5)\n",
    "f5u = max(f5)\n",
    "\n",
    "print(f4l)\n",
    "print(f4u)\n",
    "print(f5l)\n",
    "print(f5u)\n",
    "\n",
    "for i4 in range(f4l, f4u+1):\n",
    "    c = 'f4X' + str(i4)\n",
    "    print(c)\n",
    "    \n",
    "for i5 in range(f5l, f5u+1):\n",
    "    c = 'f5X' + str(i5)\n",
    "    print(c)"
   ]
  },
  {
   "cell_type": "code",
   "execution_count": 22,
   "id": "82aff9e5-6824-4aff-9e24-c7bc03ac4557",
   "metadata": {
    "tags": []
   },
   "outputs": [
    {
     "data": {
      "text/plain": [
       "True"
      ]
     },
     "execution_count": 22,
     "metadata": {},
     "output_type": "execute_result"
    }
   ],
   "source": [
    "f4 = [1,2,3]\n",
    "f5 = [4,5,30]\n",
    "\n",
    "all(f4[i] + 1 == f4[i + 1] for i in range(len(f4) - 1))"
   ]
  },
  {
   "cell_type": "code",
   "execution_count": 1,
   "id": "2e7e7b65-86f4-4819-906a-e3e136751b3d",
   "metadata": {
    "tags": []
   },
   "outputs": [
    {
     "data": {
      "text/plain": [
       "['f4X1', 'f4X4', 'f4X5', 'f4X20', 'f4X35', 'f5X4', 'Key']"
      ]
     },
     "execution_count": 1,
     "metadata": {},
     "output_type": "execute_result"
    }
   ],
   "source": [
    "def ColSelect(f4, f5, key=None): \n",
    "    if key is None:\n",
    "        k = []\n",
    "    else:\n",
    "        k = [key]\n",
    "        \n",
    "    if f4 == 'f4':\n",
    "        c4 = ['f4X' + str(i4) for i4 in range(1, 315)]\n",
    "    elif isinstance(f4, int) or all(f4[i] + 1 == f4[i + 1] for i in range(len(f4) - 1)):\n",
    "        if isinstance(f4, int):\n",
    "            f4 = [f4]\n",
    "        f4l = min(f4)\n",
    "        f4u = max(f4)\n",
    "        c4 = ['f4X' + str(i4) for i4 in range(f4l, f4u+1)]\n",
    "    else:\n",
    "        c4 = ['f4X' + str(i4) for i4 in f4]\n",
    "    \n",
    "    if f5 == 'f5':\n",
    "        c5 = ['f5X' + str(i5) for i5 in range(1, 337)]\n",
    "    elif isinstance(f5, int) or all(f5[i] + 1 == f5[i + 1] for i in range(len(f5) - 1)):\n",
    "        if isinstance(f5, int):\n",
    "            f5 = [f5]\n",
    "        f5l = min(f5)\n",
    "        f5u = max(f5)\n",
    "        c5 = ['f5X' + str(i5) for i5 in range(f5l, f5u+1)]\n",
    "    else:\n",
    "        c5 = ['f5X' + str(i5) for i5 in f5]\n",
    "        \n",
    "    return c4 + c5 + k\n",
    "\n",
    "ColSelect([1,4,5,20,35],4, 'Key')"
   ]
  },
  {
   "cell_type": "code",
   "execution_count": 2,
   "id": "5ffbd10d-21f8-41cf-8e66-5b50acc0d462",
   "metadata": {
    "tags": []
   },
   "outputs": [
    {
     "ename": "NameError",
     "evalue": "name 'sdf' is not defined",
     "output_type": "error",
     "traceback": [
      "\u001b[0;31m---------------------------------------------------------------------------\u001b[0m",
      "\u001b[0;31mNameError\u001b[0m                                 Traceback (most recent call last)",
      "Cell \u001b[0;32mIn[2], line 1\u001b[0m\n\u001b[0;32m----> 1\u001b[0m sdf2 \u001b[38;5;241m=\u001b[39m \u001b[43msdf\u001b[49m[ColSelect([\u001b[38;5;241m1\u001b[39m,\u001b[38;5;241m6\u001b[39m], \u001b[38;5;241m9\u001b[39m, \u001b[38;5;124m'\u001b[39m\u001b[38;5;124mKey\u001b[39m\u001b[38;5;124m'\u001b[39m)]\n\u001b[1;32m      2\u001b[0m sdf2\u001b[38;5;241m.\u001b[39mreset_index(drop\u001b[38;5;241m=\u001b[39m\u001b[38;5;28;01mTrue\u001b[39;00m, inplace\u001b[38;5;241m=\u001b[39m\u001b[38;5;28;01mTrue\u001b[39;00m)\n\u001b[1;32m      3\u001b[0m sdf2\n",
      "\u001b[0;31mNameError\u001b[0m: name 'sdf' is not defined"
     ]
    }
   ],
   "source": [
    "sdf2 = sdf[ColSelect([1,6], 9, 'Key')]\n",
    "sdf2.reset_index(drop=True, inplace=True)\n",
    "sdf2"
   ]
  },
  {
   "cell_type": "code",
   "execution_count": 18,
   "id": "979bad12-163d-49e3-89d0-2f3b7eff6fe2",
   "metadata": {
    "tags": []
   },
   "outputs": [],
   "source": [
    "import os"
   ]
  },
  {
   "cell_type": "code",
   "execution_count": 32,
   "id": "b83cf8db-c67e-4f03-9730-73e053257875",
   "metadata": {
    "tags": []
   },
   "outputs": [
    {
     "ename": "FileExistsError",
     "evalue": "[Errno 17] File exists: '/blue/mateescu/agustinchasco/Projects/reprojersey/data/ipykernel_launcher/view'",
     "output_type": "error",
     "traceback": [
      "\u001b[0;31m---------------------------------------------------------------------------\u001b[0m",
      "\u001b[0;31mFileExistsError\u001b[0m                           Traceback (most recent call last)",
      "Cell \u001b[0;32mIn[32], line 3\u001b[0m\n\u001b[1;32m      1\u001b[0m vp \u001b[38;5;241m=\u001b[39m os\u001b[38;5;241m.\u001b[39mpath\u001b[38;5;241m.\u001b[39mjoin(\u001b[38;5;124m'\u001b[39m\u001b[38;5;124m/blue/mateescu/agustinchasco/Projects/reprojersey/data/ipykernel_launcher\u001b[39m\u001b[38;5;124m'\u001b[39m, \u001b[38;5;124m'\u001b[39m\u001b[38;5;124mview\u001b[39m\u001b[38;5;124m'\u001b[39m)\n\u001b[1;32m      2\u001b[0m vp\n\u001b[0;32m----> 3\u001b[0m \u001b[43mos\u001b[49m\u001b[38;5;241;43m.\u001b[39;49m\u001b[43mmakedirs\u001b[49m\u001b[43m(\u001b[49m\u001b[43mvp\u001b[49m\u001b[43m)\u001b[49m \n",
      "File \u001b[0;32m<frozen os>:225\u001b[0m, in \u001b[0;36mmakedirs\u001b[0;34m(name, mode, exist_ok)\u001b[0m\n",
      "\u001b[0;31mFileExistsError\u001b[0m: [Errno 17] File exists: '/blue/mateescu/agustinchasco/Projects/reprojersey/data/ipykernel_launcher/view'"
     ]
    }
   ],
   "source": [
    "vp = os.path.join('/blue/mateescu/agustinchasco/Projects/reprojersey/data/ipykernel_launcher', 'view')\n",
    "vp\n",
    "os.makedirs(vp) "
   ]
  },
  {
   "cell_type": "code",
   "execution_count": 36,
   "id": "c0d7d57f-04f1-4335-bbaf-f04d32816cca",
   "metadata": {
    "tags": []
   },
   "outputs": [
    {
     "data": {
      "text/plain": [
       "'/blue/mateescu/agustinchasco/Projects/reprojersey/data/ipykernel_launcher/view/ipykernel_launcher.html'"
      ]
     },
     "execution_count": 36,
     "metadata": {},
     "output_type": "execute_result"
    }
   ],
   "source": [
    "ids = ''\n",
    "fn = init.cn + ids + '.html'\n",
    "fp = os.path.join(vp, fn)\n",
    "fp"
   ]
  },
  {
   "cell_type": "code",
   "execution_count": 51,
   "id": "273bdb57-3c2b-4426-a97c-182c0a5fee72",
   "metadata": {
    "tags": []
   },
   "outputs": [],
   "source": [
    "sdf2.to_html(fp)"
   ]
  }
 ],
 "metadata": {
  "kernelspec": {
   "display_name": "Python 3 (ipykernel)",
   "language": "python",
   "name": "python3"
  },
  "language_info": {
   "codemirror_mode": {
    "name": "ipython",
    "version": 3
   },
   "file_extension": ".py",
   "mimetype": "text/x-python",
   "name": "python",
   "nbconvert_exporter": "python",
   "pygments_lexer": "ipython3",
   "version": "3.11.3"
  }
 },
 "nbformat": 4,
 "nbformat_minor": 5
}
