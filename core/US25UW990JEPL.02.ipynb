{
 "cells": [
  {
   "cell_type": "markdown",
   "id": "e4a80441-89dd-47b9-933f-30879d8c4f19",
   "metadata": {},
   "source": [
    "# Testing modular approach and master script for step integration\n",
    "\n",
    "The idea is to integrate all my analysis in a single script.\n",
    "The idea is to be tidy and consistent, andp rovide a sequential set of steps that would make anyone underastand what I did and how I reach my conclusiopns.\n",
    "Eventually, this script could be uploaded in something like a git repository."
   ]
  },
  {
   "cell_type": "code",
   "execution_count": 1,
   "id": "1a1e5433-532e-4d8a-af5d-9db00680cdc1",
   "metadata": {
    "tags": []
   },
   "outputs": [],
   "source": [
    "import US25UW990JEPL_02 as JEPL\n",
    "import copy\n",
    "t=1"
   ]
  },
  {
   "cell_type": "code",
   "execution_count": 2,
   "id": "53d67fc3-1b98-48c3-9cfe-cf47e04242a9",
   "metadata": {
    "tags": []
   },
   "outputs": [
    {
     "name": "stdout",
     "output_type": "stream",
     "text": [
      "Initialization: \n",
      "\n",
      "Code ipykernel_launcher.py starts. \n",
      "Codes executed when testing is 1. \n",
      "Running program in /blue/mateescu/agustinchasco/Projects/reprojersey/core. \n",
      "Reading data in /blue/mateescu/agustinchasco/Projects/reprojersey/data. \n",
      "Saving data in /blue/mateescu/agustinchasco/Projects/reprojersey/data. \n",
      "Time profiling starts. Program executed on 04-03-2025 at 12:30 PM EST.\n",
      "\n",
      "Path `/blue/mateescu/agustinchasco/Projects/reprojersey/data/ipykernel_launcher/test` already exists. \n",
      "\n",
      "Path `/blue/mateescu/agustinchasco/Projects/reprojersey/data/view` already exists. \n",
      "\n",
      "Loading map ipykernel_launcher_test_f4map.json in pathf4_map_path: \n",
      " /blue/mateescu/agustinchasco/Projects/reprojersey/data/ipykernel_launcher/test/ipykernel_launcher_test_f4map.json \n",
      " \n",
      "\n",
      "Loading map ipykernel_launcher_test_f5map.json in pathf5_map_path: \n",
      " /blue/mateescu/agustinchasco/Projects/reprojersey/data/ipykernel_launcher/test/ipykernel_launcher_test_f5map.json \n",
      " \n",
      "\n",
      "Creation of master map ipykernel_launcher_test_fmap.json in path: \n",
      " /blue/mateescu/agustinchasco/Projects/reprojersey/data/ipykernel_launcher/test/ipykernel_launcher_test_fmap.json \n",
      " \n",
      "\n",
      "HTML map file named ipykernel_launcher_test_fmap.html saved in pat: \n",
      " /blue/mateescu/agustinchasco/Projects/reprojersey/data/ipykernel_launcher/test/ipykernel_launcher_test_fmap.html \n",
      " \n",
      "\n"
     ]
    }
   ],
   "source": [
    "init = JEPL.Initializer(data_path='/blue/mateescu/agustinchasco/Projects/reprojersey/data',\n",
    "                        code_path='/blue/mateescu/agustinchasco/Projects/reprojersey/core',\n",
    "                        testing=t)\n",
    "\n",
    "init.Directories()\n",
    "init.GetFormatMap()"
   ]
  },
  {
   "cell_type": "code",
   "execution_count": 3,
   "id": "92e12382-0367-4516-815d-497d7994cf5a",
   "metadata": {
    "tags": []
   },
   "outputs": [
    {
     "name": "stdout",
     "output_type": "stream",
     "text": [
      "JEPL020101 activated when testing is 1. \n",
      "\n",
      "Loading file US25UW990JEPL.01_test_010601pdfu.txt in path: \n",
      " /blue/mateescu/agustinchasco/Projects/reprojersey/data/US25UW990JEPL.02/test/US25UW990JEPL.01_test_010601pdfu.txt \n",
      " \n",
      "\n",
      "init: <class 'US25UW990JEPL_02.Initializer'> (Not a DataFrame) \n",
      "\n",
      "pdfu: <class 'pandas.core.frame.DataFrame'> with shape (23353, 650) \n",
      "\n"
     ]
    }
   ],
   "source": [
    "print(f'JEPL020101 activated when testing is {init.t}. \\n')\n",
    "fn = ['US25UW990JEPL.01_impl_010601pdfu.txt', 'US25UW990JEPL.01_test_010601pdfu.txt'][init.t]\n",
    "fp = init.TargetPath(fn)\n",
    "\n",
    "print(f'Loading file {fn} in path: \\n {fp} \\n \\n')\n",
    "dc = JEPL.DataContainer(init, pdfu = init.TXT_reader(target_path=fp))\n",
    "dc.ShowDatasets()"
   ]
  },
  {
   "cell_type": "code",
   "execution_count": 4,
   "id": "0a46c94f-9d6f-4593-9e43-6e3dde3d086e",
   "metadata": {
    "tags": []
   },
   "outputs": [
    {
     "name": "stdout",
     "output_type": "stream",
     "text": [
      "Setting key in merged dataset with 650 columns.\n"
     ]
    }
   ],
   "source": [
    "dc.SetKey(['pdfu'], [['f4X3', 'f4X4', 'f4X5', 'f4X35'], ['f5X3', 'f5X4', 'f5X5', 'f5X35']])"
   ]
  },
  {
   "cell_type": "code",
   "execution_count": 5,
   "id": "2b970334-4fe3-40b1-8ef2-5334de0f07d3",
   "metadata": {
    "tags": []
   },
   "outputs": [
    {
     "data": {
      "text/plain": [
       "0    JE               20120216\n",
       "1    JE               20161013\n",
       "2    JE               20210726\n",
       "3    JE84000006726960620160505\n",
       "4    JE84000006754087220151208\n",
       "5    JE84000030025846120120726\n",
       "6    JE84000300058695420100922\n",
       "7    JE84000300095328920090828\n",
       "8    JE84000300116779120100913\n",
       "9    JE84000300122417820080202\n",
       "Name: Key, dtype: object"
      ]
     },
     "execution_count": 5,
     "metadata": {},
     "output_type": "execute_result"
    }
   ],
   "source": [
    "dc.pdfu['Key'][0:10]"
   ]
  },
  {
   "cell_type": "code",
   "execution_count": 6,
   "id": "81b0f66e-7b42-466a-8c73-d25e5c90025b",
   "metadata": {
    "tags": []
   },
   "outputs": [
    {
     "name": "stdout",
     "output_type": "stream",
     "text": [
      "cols are: \n",
      " ['f4X1', 'f4X3', 'f4X4', 'f4X5', 'f4X35', 'f4X50', 'f4X51', 'f5X40', 'f5X41', 'f5X42', 'f5X43', 'f5X45', 'Key'] \n",
      " \n",
      "\n",
      "mask.head(): \n",
      " 0    False\n",
      "1    False\n",
      "2    False\n",
      "3     True\n",
      "4     True\n",
      "Name: Key, dtype: bool \n",
      " \n",
      "\n",
      "init: <class 'US25UW990JEPL_02.Initializer'> (Not a DataFrame) \n",
      "\n",
      "pdfu: <class 'pandas.core.frame.DataFrame'> with shape (23353, 651) \n",
      "\n",
      "sdf: <class 'pandas.core.frame.DataFrame'> with shape (4, 13) \n",
      "\n"
     ]
    },
    {
     "ename": "OSError",
     "evalue": "Cannot save file into a non-existent directory: '/blue/mateescu/agustinchasco/Projects/reprojersey/core/ipykernel_launcher/test/ipykernel_launcher'",
     "output_type": "error",
     "traceback": [
      "\u001b[0;31m---------------------------------------------------------------------------\u001b[0m",
      "\u001b[0;31mOSError\u001b[0m                                   Traceback (most recent call last)",
      "Cell \u001b[0;32mIn[6], line 1\u001b[0m\n\u001b[0;32m----> 1\u001b[0m \u001b[43mdc\u001b[49m\u001b[38;5;241;43m.\u001b[39;49m\u001b[43mGetSubset\u001b[49m\u001b[43m(\u001b[49m\u001b[43mdataset_name\u001b[49m\u001b[38;5;241;43m=\u001b[39;49m\u001b[38;5;124;43m'\u001b[39;49m\u001b[38;5;124;43mpdfu\u001b[39;49m\u001b[38;5;124;43m'\u001b[39;49m\u001b[43m,\u001b[49m\u001b[43m \u001b[49m\n\u001b[1;32m      2\u001b[0m \u001b[43m             \u001b[49m\u001b[43mcolf4\u001b[49m\u001b[38;5;241;43m=\u001b[39;49m\u001b[43m[\u001b[49m\u001b[38;5;241;43m1\u001b[39;49m\u001b[43m,\u001b[49m\u001b[38;5;241;43m3\u001b[39;49m\u001b[43m,\u001b[49m\u001b[38;5;241;43m4\u001b[39;49m\u001b[43m,\u001b[49m\u001b[38;5;241;43m5\u001b[39;49m\u001b[43m,\u001b[49m\u001b[38;5;241;43m35\u001b[39;49m\u001b[43m,\u001b[49m\u001b[38;5;241;43m50\u001b[39;49m\u001b[43m,\u001b[49m\u001b[38;5;241;43m51\u001b[39;49m\u001b[43m]\u001b[49m\u001b[43m,\u001b[49m\u001b[43m \u001b[49m\n\u001b[1;32m      3\u001b[0m \u001b[43m             \u001b[49m\u001b[43mcolf5\u001b[49m\u001b[38;5;241;43m=\u001b[39;49m\u001b[43m[\u001b[49m\u001b[38;5;241;43m40\u001b[39;49m\u001b[43m,\u001b[49m\u001b[38;5;241;43m41\u001b[39;49m\u001b[43m,\u001b[49m\u001b[38;5;241;43m42\u001b[39;49m\u001b[43m,\u001b[49m\u001b[38;5;241;43m43\u001b[39;49m\u001b[43m,\u001b[49m\u001b[38;5;241;43m45\u001b[39;49m\u001b[43m]\u001b[49m\u001b[43m,\u001b[49m\u001b[43m \u001b[49m\n\u001b[1;32m      4\u001b[0m \u001b[43m             \u001b[49m\u001b[43mkeys\u001b[49m\u001b[38;5;241;43m=\u001b[39;49m\u001b[43m[\u001b[49m\u001b[38;5;124;43m'\u001b[39;49m\u001b[38;5;124;43mJE84000006726960620160505\u001b[39;49m\u001b[38;5;124;43m'\u001b[39;49m\u001b[43m,\u001b[49m\u001b[43m \u001b[49m\u001b[38;5;124;43m'\u001b[39;49m\u001b[38;5;124;43mJE84000006754087220151208\u001b[39;49m\u001b[38;5;124;43m'\u001b[39;49m\u001b[43m,\u001b[49m\n\u001b[1;32m      5\u001b[0m \u001b[43m                   \u001b[49m\u001b[38;5;124;43m'\u001b[39;49m\u001b[38;5;124;43mJE84000300058695420100922\u001b[39;49m\u001b[38;5;124;43m'\u001b[39;49m\u001b[43m,\u001b[49m\u001b[43m \u001b[49m\u001b[38;5;124;43m'\u001b[39;49m\u001b[38;5;124;43mJE84000300116779120100913\u001b[39;49m\u001b[38;5;124;43m'\u001b[39;49m\u001b[43m]\u001b[49m\u001b[43m,\u001b[49m\u001b[43m \u001b[49m\n\u001b[1;32m      6\u001b[0m \u001b[43m             \u001b[49m\u001b[43mlact\u001b[49m\u001b[38;5;241;43m=\u001b[39;49m\u001b[38;5;124;43m'\u001b[39;49m\u001b[38;5;124;43mu\u001b[39;49m\u001b[38;5;124;43m'\u001b[39;49m\u001b[43m)\u001b[49m\n",
      "File \u001b[0;32m/blue/mateescu/agustinchasco/Projects/reprojersey/core/US25UW990JEPL_02.py:1047\u001b[0m, in \u001b[0;36mDataContainer.GetSubset\u001b[0;34m(self, dataset_name, colf4, colf5, keys, ext, n, lact, seed)\u001b[0m\n\u001b[1;32m   1045\u001b[0m fn \u001b[38;5;241m=\u001b[39m \u001b[38;5;28mself\u001b[39m\u001b[38;5;241m.\u001b[39minit\u001b[38;5;241m.\u001b[39mcn \u001b[38;5;241m+\u001b[39m ext \u001b[38;5;241m+\u001b[39m \u001b[38;5;124m'\u001b[39m\u001b[38;5;124mhtml\u001b[39m\u001b[38;5;124m'\u001b[39m\n\u001b[1;32m   1046\u001b[0m fp \u001b[38;5;241m=\u001b[39m os\u001b[38;5;241m.\u001b[39mpath\u001b[38;5;241m.\u001b[39mjoin(\u001b[38;5;28mself\u001b[39m\u001b[38;5;241m.\u001b[39minit\u001b[38;5;241m.\u001b[39mpp, \u001b[38;5;28mself\u001b[39m\u001b[38;5;241m.\u001b[39minit\u001b[38;5;241m.\u001b[39mcn, fn)\n\u001b[0;32m-> 1047\u001b[0m \u001b[43msdf\u001b[49m\u001b[38;5;241;43m.\u001b[39;49m\u001b[43mto_html\u001b[49m\u001b[43m(\u001b[49m\u001b[43mfp\u001b[49m\u001b[43m,\u001b[49m\u001b[43m \u001b[49m\u001b[43mindex\u001b[49m\u001b[38;5;241;43m=\u001b[39;49m\u001b[38;5;28;43;01mFalse\u001b[39;49;00m\u001b[43m)\u001b[49m\n",
      "File \u001b[0;32m~/.local/lib/python3.11/site-packages/pandas/util/_decorators.py:333\u001b[0m, in \u001b[0;36mdeprecate_nonkeyword_arguments.<locals>.decorate.<locals>.wrapper\u001b[0;34m(*args, **kwargs)\u001b[0m\n\u001b[1;32m    327\u001b[0m \u001b[38;5;28;01mif\u001b[39;00m \u001b[38;5;28mlen\u001b[39m(args) \u001b[38;5;241m>\u001b[39m num_allow_args:\n\u001b[1;32m    328\u001b[0m     warnings\u001b[38;5;241m.\u001b[39mwarn(\n\u001b[1;32m    329\u001b[0m         msg\u001b[38;5;241m.\u001b[39mformat(arguments\u001b[38;5;241m=\u001b[39m_format_argument_list(allow_args)),\n\u001b[1;32m    330\u001b[0m         \u001b[38;5;167;01mFutureWarning\u001b[39;00m,\n\u001b[1;32m    331\u001b[0m         stacklevel\u001b[38;5;241m=\u001b[39mfind_stack_level(),\n\u001b[1;32m    332\u001b[0m     )\n\u001b[0;32m--> 333\u001b[0m \u001b[38;5;28;01mreturn\u001b[39;00m \u001b[43mfunc\u001b[49m\u001b[43m(\u001b[49m\u001b[38;5;241;43m*\u001b[39;49m\u001b[43margs\u001b[49m\u001b[43m,\u001b[49m\u001b[43m \u001b[49m\u001b[38;5;241;43m*\u001b[39;49m\u001b[38;5;241;43m*\u001b[39;49m\u001b[43mkwargs\u001b[49m\u001b[43m)\u001b[49m\n",
      "File \u001b[0;32m~/.local/lib/python3.11/site-packages/pandas/core/frame.py:3381\u001b[0m, in \u001b[0;36mDataFrame.to_html\u001b[0;34m(self, buf, columns, col_space, header, index, na_rep, formatters, float_format, sparsify, index_names, justify, max_rows, max_cols, show_dimensions, decimal, bold_rows, classes, escape, notebook, border, table_id, render_links, encoding)\u001b[0m\n\u001b[1;32m   3361\u001b[0m formatter \u001b[38;5;241m=\u001b[39m fmt\u001b[38;5;241m.\u001b[39mDataFrameFormatter(\n\u001b[1;32m   3362\u001b[0m     \u001b[38;5;28mself\u001b[39m,\n\u001b[1;32m   3363\u001b[0m     columns\u001b[38;5;241m=\u001b[39mcolumns,\n\u001b[0;32m   (...)\u001b[0m\n\u001b[1;32m   3378\u001b[0m     show_dimensions\u001b[38;5;241m=\u001b[39mshow_dimensions,\n\u001b[1;32m   3379\u001b[0m )\n\u001b[1;32m   3380\u001b[0m \u001b[38;5;66;03m# TODO: a generic formatter wld b in DataFrameFormatter\u001b[39;00m\n\u001b[0;32m-> 3381\u001b[0m \u001b[38;5;28;01mreturn\u001b[39;00m \u001b[43mfmt\u001b[49m\u001b[38;5;241;43m.\u001b[39;49m\u001b[43mDataFrameRenderer\u001b[49m\u001b[43m(\u001b[49m\u001b[43mformatter\u001b[49m\u001b[43m)\u001b[49m\u001b[38;5;241;43m.\u001b[39;49m\u001b[43mto_html\u001b[49m\u001b[43m(\u001b[49m\n\u001b[1;32m   3382\u001b[0m \u001b[43m    \u001b[49m\u001b[43mbuf\u001b[49m\u001b[38;5;241;43m=\u001b[39;49m\u001b[43mbuf\u001b[49m\u001b[43m,\u001b[49m\n\u001b[1;32m   3383\u001b[0m \u001b[43m    \u001b[49m\u001b[43mclasses\u001b[49m\u001b[38;5;241;43m=\u001b[39;49m\u001b[43mclasses\u001b[49m\u001b[43m,\u001b[49m\n\u001b[1;32m   3384\u001b[0m \u001b[43m    \u001b[49m\u001b[43mnotebook\u001b[49m\u001b[38;5;241;43m=\u001b[39;49m\u001b[43mnotebook\u001b[49m\u001b[43m,\u001b[49m\n\u001b[1;32m   3385\u001b[0m \u001b[43m    \u001b[49m\u001b[43mborder\u001b[49m\u001b[38;5;241;43m=\u001b[39;49m\u001b[43mborder\u001b[49m\u001b[43m,\u001b[49m\n\u001b[1;32m   3386\u001b[0m \u001b[43m    \u001b[49m\u001b[43mencoding\u001b[49m\u001b[38;5;241;43m=\u001b[39;49m\u001b[43mencoding\u001b[49m\u001b[43m,\u001b[49m\n\u001b[1;32m   3387\u001b[0m \u001b[43m    \u001b[49m\u001b[43mtable_id\u001b[49m\u001b[38;5;241;43m=\u001b[39;49m\u001b[43mtable_id\u001b[49m\u001b[43m,\u001b[49m\n\u001b[1;32m   3388\u001b[0m \u001b[43m    \u001b[49m\u001b[43mrender_links\u001b[49m\u001b[38;5;241;43m=\u001b[39;49m\u001b[43mrender_links\u001b[49m\u001b[43m,\u001b[49m\n\u001b[1;32m   3389\u001b[0m \u001b[43m\u001b[49m\u001b[43m)\u001b[49m\n",
      "File \u001b[0;32m~/.local/lib/python3.11/site-packages/pandas/io/formats/format.py:937\u001b[0m, in \u001b[0;36mDataFrameRenderer.to_html\u001b[0;34m(self, buf, encoding, classes, notebook, border, table_id, render_links)\u001b[0m\n\u001b[1;32m    929\u001b[0m html_formatter \u001b[38;5;241m=\u001b[39m Klass(\n\u001b[1;32m    930\u001b[0m     \u001b[38;5;28mself\u001b[39m\u001b[38;5;241m.\u001b[39mfmt,\n\u001b[1;32m    931\u001b[0m     classes\u001b[38;5;241m=\u001b[39mclasses,\n\u001b[0;32m   (...)\u001b[0m\n\u001b[1;32m    934\u001b[0m     render_links\u001b[38;5;241m=\u001b[39mrender_links,\n\u001b[1;32m    935\u001b[0m )\n\u001b[1;32m    936\u001b[0m string \u001b[38;5;241m=\u001b[39m html_formatter\u001b[38;5;241m.\u001b[39mto_string()\n\u001b[0;32m--> 937\u001b[0m \u001b[38;5;28;01mreturn\u001b[39;00m \u001b[43msave_to_buffer\u001b[49m\u001b[43m(\u001b[49m\u001b[43mstring\u001b[49m\u001b[43m,\u001b[49m\u001b[43m \u001b[49m\u001b[43mbuf\u001b[49m\u001b[38;5;241;43m=\u001b[39;49m\u001b[43mbuf\u001b[49m\u001b[43m,\u001b[49m\u001b[43m \u001b[49m\u001b[43mencoding\u001b[49m\u001b[38;5;241;43m=\u001b[39;49m\u001b[43mencoding\u001b[49m\u001b[43m)\u001b[49m\n",
      "File \u001b[0;32m~/.local/lib/python3.11/site-packages/pandas/io/formats/format.py:1033\u001b[0m, in \u001b[0;36msave_to_buffer\u001b[0;34m(string, buf, encoding)\u001b[0m\n\u001b[1;32m   1025\u001b[0m \u001b[38;5;28;01mdef\u001b[39;00m \u001b[38;5;21msave_to_buffer\u001b[39m(\n\u001b[1;32m   1026\u001b[0m     string: \u001b[38;5;28mstr\u001b[39m,\n\u001b[1;32m   1027\u001b[0m     buf: FilePath \u001b[38;5;241m|\u001b[39m WriteBuffer[\u001b[38;5;28mstr\u001b[39m] \u001b[38;5;241m|\u001b[39m \u001b[38;5;28;01mNone\u001b[39;00m \u001b[38;5;241m=\u001b[39m \u001b[38;5;28;01mNone\u001b[39;00m,\n\u001b[1;32m   1028\u001b[0m     encoding: \u001b[38;5;28mstr\u001b[39m \u001b[38;5;241m|\u001b[39m \u001b[38;5;28;01mNone\u001b[39;00m \u001b[38;5;241m=\u001b[39m \u001b[38;5;28;01mNone\u001b[39;00m,\n\u001b[1;32m   1029\u001b[0m ) \u001b[38;5;241m-\u001b[39m\u001b[38;5;241m>\u001b[39m \u001b[38;5;28mstr\u001b[39m \u001b[38;5;241m|\u001b[39m \u001b[38;5;28;01mNone\u001b[39;00m:\n\u001b[1;32m   1030\u001b[0m \u001b[38;5;250m    \u001b[39m\u001b[38;5;124;03m\"\"\"\u001b[39;00m\n\u001b[1;32m   1031\u001b[0m \u001b[38;5;124;03m    Perform serialization. Write to buf or return as string if buf is None.\u001b[39;00m\n\u001b[1;32m   1032\u001b[0m \u001b[38;5;124;03m    \"\"\"\u001b[39;00m\n\u001b[0;32m-> 1033\u001b[0m \u001b[43m    \u001b[49m\u001b[38;5;28;43;01mwith\u001b[39;49;00m\u001b[43m \u001b[49m\u001b[43m_get_buffer\u001b[49m\u001b[43m(\u001b[49m\u001b[43mbuf\u001b[49m\u001b[43m,\u001b[49m\u001b[43m \u001b[49m\u001b[43mencoding\u001b[49m\u001b[38;5;241;43m=\u001b[39;49m\u001b[43mencoding\u001b[49m\u001b[43m)\u001b[49m\u001b[43m \u001b[49m\u001b[38;5;28;43;01mas\u001b[39;49;00m\u001b[43m \u001b[49m\u001b[43mfd\u001b[49m\u001b[43m:\u001b[49m\n\u001b[1;32m   1034\u001b[0m \u001b[43m        \u001b[49m\u001b[43mfd\u001b[49m\u001b[38;5;241;43m.\u001b[39;49m\u001b[43mwrite\u001b[49m\u001b[43m(\u001b[49m\u001b[43mstring\u001b[49m\u001b[43m)\u001b[49m\n\u001b[1;32m   1035\u001b[0m \u001b[43m        \u001b[49m\u001b[38;5;28;43;01mif\u001b[39;49;00m\u001b[43m \u001b[49m\u001b[43mbuf\u001b[49m\u001b[43m \u001b[49m\u001b[38;5;129;43;01mis\u001b[39;49;00m\u001b[43m \u001b[49m\u001b[38;5;28;43;01mNone\u001b[39;49;00m\u001b[43m:\u001b[49m\n\u001b[1;32m   1036\u001b[0m \u001b[43m            \u001b[49m\u001b[38;5;66;43;03m# error: \"WriteBuffer[str]\" has no attribute \"getvalue\"\u001b[39;49;00m\n",
      "File \u001b[0;32m/apps/jupyterhub/3.1.1/lib/python3.11/contextlib.py:137\u001b[0m, in \u001b[0;36m_GeneratorContextManager.__enter__\u001b[0;34m(self)\u001b[0m\n\u001b[1;32m    135\u001b[0m \u001b[38;5;28;01mdel\u001b[39;00m \u001b[38;5;28mself\u001b[39m\u001b[38;5;241m.\u001b[39margs, \u001b[38;5;28mself\u001b[39m\u001b[38;5;241m.\u001b[39mkwds, \u001b[38;5;28mself\u001b[39m\u001b[38;5;241m.\u001b[39mfunc\n\u001b[1;32m    136\u001b[0m \u001b[38;5;28;01mtry\u001b[39;00m:\n\u001b[0;32m--> 137\u001b[0m     \u001b[38;5;28;01mreturn\u001b[39;00m \u001b[38;5;28mnext\u001b[39m(\u001b[38;5;28mself\u001b[39m\u001b[38;5;241m.\u001b[39mgen)\n\u001b[1;32m    138\u001b[0m \u001b[38;5;28;01mexcept\u001b[39;00m \u001b[38;5;167;01mStopIteration\u001b[39;00m:\n\u001b[1;32m    139\u001b[0m     \u001b[38;5;28;01mraise\u001b[39;00m \u001b[38;5;167;01mRuntimeError\u001b[39;00m(\u001b[38;5;124m\"\u001b[39m\u001b[38;5;124mgenerator didn\u001b[39m\u001b[38;5;124m'\u001b[39m\u001b[38;5;124mt yield\u001b[39m\u001b[38;5;124m\"\u001b[39m) \u001b[38;5;28;01mfrom\u001b[39;00m \u001b[38;5;28;01mNone\u001b[39;00m\n",
      "File \u001b[0;32m~/.local/lib/python3.11/site-packages/pandas/io/formats/format.py:1064\u001b[0m, in \u001b[0;36m_get_buffer\u001b[0;34m(buf, encoding)\u001b[0m\n\u001b[1;32m   1062\u001b[0m     \u001b[38;5;28;01myield\u001b[39;00m buf  \u001b[38;5;66;03m# type: ignore[misc]\u001b[39;00m\n\u001b[1;32m   1063\u001b[0m \u001b[38;5;28;01melif\u001b[39;00m \u001b[38;5;28misinstance\u001b[39m(buf, \u001b[38;5;28mstr\u001b[39m):\n\u001b[0;32m-> 1064\u001b[0m     \u001b[43mcheck_parent_directory\u001b[49m\u001b[43m(\u001b[49m\u001b[38;5;28;43mstr\u001b[39;49m\u001b[43m(\u001b[49m\u001b[43mbuf\u001b[49m\u001b[43m)\u001b[49m\u001b[43m)\u001b[49m\n\u001b[1;32m   1065\u001b[0m     \u001b[38;5;28;01mwith\u001b[39;00m \u001b[38;5;28mopen\u001b[39m(buf, \u001b[38;5;124m\"\u001b[39m\u001b[38;5;124mw\u001b[39m\u001b[38;5;124m\"\u001b[39m, encoding\u001b[38;5;241m=\u001b[39mencoding, newline\u001b[38;5;241m=\u001b[39m\u001b[38;5;124m\"\u001b[39m\u001b[38;5;124m\"\u001b[39m) \u001b[38;5;28;01mas\u001b[39;00m f:\n\u001b[1;32m   1066\u001b[0m         \u001b[38;5;66;03m# GH#30034 open instead of codecs.open prevents a file leak\u001b[39;00m\n\u001b[1;32m   1067\u001b[0m         \u001b[38;5;66;03m#  if we have an invalid encoding argument.\u001b[39;00m\n\u001b[1;32m   1068\u001b[0m         \u001b[38;5;66;03m# newline=\"\" is needed to roundtrip correctly on\u001b[39;00m\n\u001b[1;32m   1069\u001b[0m         \u001b[38;5;66;03m#  windows test_to_latex_filename\u001b[39;00m\n\u001b[1;32m   1070\u001b[0m         \u001b[38;5;28;01myield\u001b[39;00m f\n",
      "File \u001b[0;32m~/.local/lib/python3.11/site-packages/pandas/io/common.py:616\u001b[0m, in \u001b[0;36mcheck_parent_directory\u001b[0;34m(path)\u001b[0m\n\u001b[1;32m    614\u001b[0m parent \u001b[38;5;241m=\u001b[39m Path(path)\u001b[38;5;241m.\u001b[39mparent\n\u001b[1;32m    615\u001b[0m \u001b[38;5;28;01mif\u001b[39;00m \u001b[38;5;129;01mnot\u001b[39;00m parent\u001b[38;5;241m.\u001b[39mis_dir():\n\u001b[0;32m--> 616\u001b[0m     \u001b[38;5;28;01mraise\u001b[39;00m \u001b[38;5;167;01mOSError\u001b[39;00m(\u001b[38;5;124mrf\u001b[39m\u001b[38;5;124m\"\u001b[39m\u001b[38;5;124mCannot save file into a non-existent directory: \u001b[39m\u001b[38;5;124m'\u001b[39m\u001b[38;5;132;01m{\u001b[39;00mparent\u001b[38;5;132;01m}\u001b[39;00m\u001b[38;5;124m'\u001b[39m\u001b[38;5;124m\"\u001b[39m)\n",
      "\u001b[0;31mOSError\u001b[0m: Cannot save file into a non-existent directory: '/blue/mateescu/agustinchasco/Projects/reprojersey/core/ipykernel_launcher/test/ipykernel_launcher'"
     ]
    }
   ],
   "source": [
    "dc.GetSubset(dataset_name='pdfu', \n",
    "             colf4=[1,3,4,5,35,50,51], \n",
    "             colf5=[40,41,42,43,45], \n",
    "             keys=['JE84000006726960620160505', 'JE84000006754087220151208',\n",
    "                   'JE84000300058695420100922', 'JE84000300116779120100913'], \n",
    "             lact='u')"
   ]
  },
  {
   "cell_type": "code",
   "execution_count": 9,
   "id": "56578585-a9cf-48bb-9e05-b83fecc7d6c6",
   "metadata": {
    "tags": []
   },
   "outputs": [],
   "source": [
    "import numpy as np"
   ]
  },
  {
   "cell_type": "code",
   "execution_count": 20,
   "id": "f0659697-b5dc-4817-8426-97c225890b1a",
   "metadata": {
    "tags": []
   },
   "outputs": [
    {
     "data": {
      "text/plain": [
       "'ef'"
      ]
     },
     "execution_count": 20,
     "metadata": {},
     "output_type": "execute_result"
    }
   ],
   "source": [
    "a = ['abcd', 'efdgh', 'asdf']\n",
    "a[1][:2]"
   ]
  },
  {
   "cell_type": "code",
   "execution_count": 11,
   "id": "bc129eff-889a-4887-a491-c67a1d51b23a",
   "metadata": {
    "tags": []
   },
   "outputs": [
    {
     "data": {
      "text/plain": [
       "0    False\n",
       "1    False\n",
       "2    False\n",
       "3    False\n",
       "4    False\n",
       "Name: Key, dtype: bool"
      ]
     },
     "execution_count": 11,
     "metadata": {},
     "output_type": "execute_result"
    }
   ],
   "source": [
    "n=10\n",
    "lacts = 'm'\n",
    "c = 17\n",
    "s = 12\n",
    "\n",
    "ks = list(set(dc.pdfu['Key']))\n",
    "np.random.seed(s)\n",
    "sks = np.random.choice(ks, size=n, replace=False)\n",
    "if lacts == 'm':\n",
    "    sks = [k[:c]for k in sks]\n",
    "    mask = dc.pdfu['Key'].apply(lambda k: k[:c]).isin(sks)\n",
    "elif lacts == 'u':\n",
    "    mask = dc.pdfu['Key'].isin(sks)\n",
    "\n",
    "mask.head()"
   ]
  },
  {
   "cell_type": "code",
   "execution_count": null,
   "id": "03dad396-87c6-4b75-91fa-f8281b078507",
   "metadata": {},
   "outputs": [],
   "source": [
    "def GetKeys(df, keys=None, n=10, lact='m'):\n",
    "    df ## Need to be replaced.\n",
    "    if 'Key' in df.columns:\n",
    "        continue\n",
    "    else:\n",
    "        ## Need \n",
    "        df.SetKey(['pdfu'], [['f4X3', 'f4X4', 'f4X5', 'f4X35'], ['f5X3', 'f5X4', 'f5X5', 'f5X35']])\n",
    "    "
   ]
  },
  {
   "cell_type": "code",
   "execution_count": 9,
   "id": "cecc2d32-5baa-4ca8-8279-e8be67452538",
   "metadata": {
    "tags": []
   },
   "outputs": [
    {
     "data": {
      "text/html": [
       "<div>\n",
       "<style scoped>\n",
       "    .dataframe tbody tr th:only-of-type {\n",
       "        vertical-align: middle;\n",
       "    }\n",
       "\n",
       "    .dataframe tbody tr th {\n",
       "        vertical-align: top;\n",
       "    }\n",
       "\n",
       "    .dataframe thead th {\n",
       "        text-align: right;\n",
       "    }\n",
       "</style>\n",
       "<table border=\"1\" class=\"dataframe\">\n",
       "  <thead>\n",
       "    <tr style=\"text-align: right;\">\n",
       "      <th></th>\n",
       "      <th>f5X1</th>\n",
       "      <th>f5X2</th>\n",
       "      <th>f5X3</th>\n",
       "      <th>f5X4</th>\n",
       "      <th>f5X5</th>\n",
       "      <th>f5X6</th>\n",
       "      <th>f5X7</th>\n",
       "      <th>f5X8</th>\n",
       "      <th>f5X9</th>\n",
       "    </tr>\n",
       "  </thead>\n",
       "  <tbody>\n",
       "    <tr>\n",
       "      <th>577</th>\n",
       "      <td>0</td>\n",
       "      <td>F</td>\n",
       "      <td>JE</td>\n",
       "      <td>840</td>\n",
       "      <td>003005175116</td>\n",
       "      <td>JE</td>\n",
       "      <td>USA</td>\n",
       "      <td>000115140569</td>\n",
       "      <td></td>\n",
       "    </tr>\n",
       "    <tr>\n",
       "      <th>2306</th>\n",
       "      <td>0</td>\n",
       "      <td>F</td>\n",
       "      <td>JE</td>\n",
       "      <td>840</td>\n",
       "      <td>003012434647</td>\n",
       "      <td>JE</td>\n",
       "      <td>USA</td>\n",
       "      <td>000115863998</td>\n",
       "      <td>JE</td>\n",
       "    </tr>\n",
       "    <tr>\n",
       "      <th>5058</th>\n",
       "      <td>0</td>\n",
       "      <td>F</td>\n",
       "      <td>JE</td>\n",
       "      <td>840</td>\n",
       "      <td>003137766621</td>\n",
       "      <td>JE</td>\n",
       "      <td>CAN</td>\n",
       "      <td>000010211025</td>\n",
       "      <td>JE</td>\n",
       "    </tr>\n",
       "    <tr>\n",
       "      <th>6732</th>\n",
       "      <td>0</td>\n",
       "      <td>F</td>\n",
       "      <td>JE</td>\n",
       "      <td>840</td>\n",
       "      <td>003150336355</td>\n",
       "      <td></td>\n",
       "      <td>USA</td>\n",
       "      <td>0000000003HJ</td>\n",
       "      <td></td>\n",
       "    </tr>\n",
       "    <tr>\n",
       "      <th>10693</th>\n",
       "      <td>0</td>\n",
       "      <td>F</td>\n",
       "      <td>JE</td>\n",
       "      <td>USA</td>\n",
       "      <td>000067075835</td>\n",
       "      <td>JE</td>\n",
       "      <td>USA</td>\n",
       "      <td>000112785428</td>\n",
       "      <td>JE</td>\n",
       "    </tr>\n",
       "    <tr>\n",
       "      <th>12081</th>\n",
       "      <td>0</td>\n",
       "      <td>F</td>\n",
       "      <td>JE</td>\n",
       "      <td>USA</td>\n",
       "      <td>000067354177</td>\n",
       "      <td>JE</td>\n",
       "      <td>USA</td>\n",
       "      <td>000114592064</td>\n",
       "      <td>JE</td>\n",
       "    </tr>\n",
       "    <tr>\n",
       "      <th>12225</th>\n",
       "      <td>0</td>\n",
       "      <td>F</td>\n",
       "      <td>JE</td>\n",
       "      <td>USA</td>\n",
       "      <td>000067393221</td>\n",
       "      <td>JE</td>\n",
       "      <td>CAN</td>\n",
       "      <td>000101483843</td>\n",
       "      <td>JE</td>\n",
       "    </tr>\n",
       "    <tr>\n",
       "      <th>16476</th>\n",
       "      <td>n</td>\n",
       "      <td>n</td>\n",
       "      <td>nn</td>\n",
       "      <td>nnn</td>\n",
       "      <td>nnnnnnnnnnnn</td>\n",
       "      <td>nn</td>\n",
       "      <td>nnn</td>\n",
       "      <td>nnnnnnnnnnnn</td>\n",
       "      <td>nn</td>\n",
       "    </tr>\n",
       "    <tr>\n",
       "      <th>20720</th>\n",
       "      <td>n</td>\n",
       "      <td>n</td>\n",
       "      <td>nn</td>\n",
       "      <td>nnn</td>\n",
       "      <td>nnnnnnnnnnnn</td>\n",
       "      <td>nn</td>\n",
       "      <td>nnn</td>\n",
       "      <td>nnnnnnnnnnnn</td>\n",
       "      <td>nn</td>\n",
       "    </tr>\n",
       "    <tr>\n",
       "      <th>22439</th>\n",
       "      <td>n</td>\n",
       "      <td>n</td>\n",
       "      <td>nn</td>\n",
       "      <td>nnn</td>\n",
       "      <td>nnnnnnnnnnnn</td>\n",
       "      <td>nn</td>\n",
       "      <td>nnn</td>\n",
       "      <td>nnnnnnnnnnnn</td>\n",
       "      <td>nn</td>\n",
       "    </tr>\n",
       "  </tbody>\n",
       "</table>\n",
       "</div>"
      ],
      "text/plain": [
       "      f5X1 f5X2 f5X3 f5X4          f5X5 f5X6 f5X7          f5X8 f5X9\n",
       "577      0    F   JE  840  003005175116   JE  USA  000115140569     \n",
       "2306     0    F   JE  840  003012434647   JE  USA  000115863998   JE\n",
       "5058     0    F   JE  840  003137766621   JE  CAN  000010211025   JE\n",
       "6732     0    F   JE  840  003150336355       USA  0000000003HJ     \n",
       "10693    0    F   JE  USA  000067075835   JE  USA  000112785428   JE\n",
       "12081    0    F   JE  USA  000067354177   JE  USA  000114592064   JE\n",
       "12225    0    F   JE  USA  000067393221   JE  CAN  000101483843   JE\n",
       "16476    n    n   nn  nnn  nnnnnnnnnnnn   nn  nnn  nnnnnnnnnnnn   nn\n",
       "20720    n    n   nn  nnn  nnnnnnnnnnnn   nn  nnn  nnnnnnnnnnnn   nn\n",
       "22439    n    n   nn  nnn  nnnnnnnnnnnn   nn  nnn  nnnnnnnnnnnn   nn"
      ]
     },
     "execution_count": 9,
     "metadata": {},
     "output_type": "execute_result"
    }
   ],
   "source": [
    "cols = ['f5X' + str(i) for i in range(1, 10)]\n",
    "sdf[cols]"
   ]
  },
  {
   "cell_type": "code",
   "execution_count": 25,
   "id": "f27420c1-bf1b-4a5d-be9a-a5c3d9947b43",
   "metadata": {
    "tags": []
   },
   "outputs": [
    {
     "name": "stdout",
     "output_type": "stream",
     "text": [
      "1\n",
      "1\n",
      "6\n",
      "6\n",
      "f4X1\n",
      "f5X6\n"
     ]
    }
   ],
   "source": [
    "f4 = [1]\n",
    "f5 = [6]\n",
    "if isinstance(f4, int):\n",
    "    f4 = [f4]\n",
    "if isinstance(f5, int):\n",
    "    f5 = [f5]\n",
    "    \n",
    "f4l = min(f4)\n",
    "f4u = max(f4)\n",
    "f5l = min(f5)\n",
    "f5u = max(f5)\n",
    "\n",
    "print(f4l)\n",
    "print(f4u)\n",
    "print(f5l)\n",
    "print(f5u)\n",
    "\n",
    "for i4 in range(f4l, f4u+1):\n",
    "    c = 'f4X' + str(i4)\n",
    "    print(c)\n",
    "    \n",
    "for i5 in range(f5l, f5u+1):\n",
    "    c = 'f5X' + str(i5)\n",
    "    print(c)"
   ]
  },
  {
   "cell_type": "code",
   "execution_count": 22,
   "id": "82aff9e5-6824-4aff-9e24-c7bc03ac4557",
   "metadata": {
    "tags": []
   },
   "outputs": [
    {
     "data": {
      "text/plain": [
       "True"
      ]
     },
     "execution_count": 22,
     "metadata": {},
     "output_type": "execute_result"
    }
   ],
   "source": [
    "f4 = [1,2,3]\n",
    "f5 = [4,5,30]\n",
    "\n",
    "all(f4[i] + 1 == f4[i + 1] for i in range(len(f4) - 1))"
   ]
  },
  {
   "cell_type": "code",
   "execution_count": 1,
   "id": "2e7e7b65-86f4-4819-906a-e3e136751b3d",
   "metadata": {
    "tags": []
   },
   "outputs": [
    {
     "data": {
      "text/plain": [
       "['f4X1', 'f4X4', 'f4X5', 'f4X20', 'f4X35', 'f5X4', 'Key']"
      ]
     },
     "execution_count": 1,
     "metadata": {},
     "output_type": "execute_result"
    }
   ],
   "source": [
    "def ColSelect(f4, f5, key=None): \n",
    "    if key is None:\n",
    "        k = []\n",
    "    else:\n",
    "        k = [key]\n",
    "        \n",
    "    if f4 == 'f4':\n",
    "        c4 = ['f4X' + str(i4) for i4 in range(1, 315)]\n",
    "    elif isinstance(f4, int) or all(f4[i] + 1 == f4[i + 1] for i in range(len(f4) - 1)):\n",
    "        if isinstance(f4, int):\n",
    "            f4 = [f4]\n",
    "        f4l = min(f4)\n",
    "        f4u = max(f4)\n",
    "        c4 = ['f4X' + str(i4) for i4 in range(f4l, f4u+1)]\n",
    "    else:\n",
    "        c4 = ['f4X' + str(i4) for i4 in f4]\n",
    "    \n",
    "    if f5 == 'f5':\n",
    "        c5 = ['f5X' + str(i5) for i5 in range(1, 337)]\n",
    "    elif isinstance(f5, int) or all(f5[i] + 1 == f5[i + 1] for i in range(len(f5) - 1)):\n",
    "        if isinstance(f5, int):\n",
    "            f5 = [f5]\n",
    "        f5l = min(f5)\n",
    "        f5u = max(f5)\n",
    "        c5 = ['f5X' + str(i5) for i5 in range(f5l, f5u+1)]\n",
    "    else:\n",
    "        c5 = ['f5X' + str(i5) for i5 in f5]\n",
    "        \n",
    "    return c4 + c5 + k\n",
    "\n",
    "ColSelect([1,4,5,20,35],4, 'Key')"
   ]
  },
  {
   "cell_type": "code",
   "execution_count": 2,
   "id": "5ffbd10d-21f8-41cf-8e66-5b50acc0d462",
   "metadata": {
    "tags": []
   },
   "outputs": [
    {
     "ename": "NameError",
     "evalue": "name 'sdf' is not defined",
     "output_type": "error",
     "traceback": [
      "\u001b[0;31m---------------------------------------------------------------------------\u001b[0m",
      "\u001b[0;31mNameError\u001b[0m                                 Traceback (most recent call last)",
      "Cell \u001b[0;32mIn[2], line 1\u001b[0m\n\u001b[0;32m----> 1\u001b[0m sdf2 \u001b[38;5;241m=\u001b[39m \u001b[43msdf\u001b[49m[ColSelect([\u001b[38;5;241m1\u001b[39m,\u001b[38;5;241m6\u001b[39m], \u001b[38;5;241m9\u001b[39m, \u001b[38;5;124m'\u001b[39m\u001b[38;5;124mKey\u001b[39m\u001b[38;5;124m'\u001b[39m)]\n\u001b[1;32m      2\u001b[0m sdf2\u001b[38;5;241m.\u001b[39mreset_index(drop\u001b[38;5;241m=\u001b[39m\u001b[38;5;28;01mTrue\u001b[39;00m, inplace\u001b[38;5;241m=\u001b[39m\u001b[38;5;28;01mTrue\u001b[39;00m)\n\u001b[1;32m      3\u001b[0m sdf2\n",
      "\u001b[0;31mNameError\u001b[0m: name 'sdf' is not defined"
     ]
    }
   ],
   "source": [
    "sdf2 = sdf[ColSelect([1,6], 9, 'Key')]\n",
    "sdf2.reset_index(drop=True, inplace=True)\n",
    "sdf2"
   ]
  },
  {
   "cell_type": "code",
   "execution_count": 18,
   "id": "979bad12-163d-49e3-89d0-2f3b7eff6fe2",
   "metadata": {
    "tags": []
   },
   "outputs": [],
   "source": [
    "import os"
   ]
  },
  {
   "cell_type": "code",
   "execution_count": 32,
   "id": "b83cf8db-c67e-4f03-9730-73e053257875",
   "metadata": {
    "tags": []
   },
   "outputs": [
    {
     "ename": "FileExistsError",
     "evalue": "[Errno 17] File exists: '/blue/mateescu/agustinchasco/Projects/reprojersey/data/ipykernel_launcher/view'",
     "output_type": "error",
     "traceback": [
      "\u001b[0;31m---------------------------------------------------------------------------\u001b[0m",
      "\u001b[0;31mFileExistsError\u001b[0m                           Traceback (most recent call last)",
      "Cell \u001b[0;32mIn[32], line 3\u001b[0m\n\u001b[1;32m      1\u001b[0m vp \u001b[38;5;241m=\u001b[39m os\u001b[38;5;241m.\u001b[39mpath\u001b[38;5;241m.\u001b[39mjoin(\u001b[38;5;124m'\u001b[39m\u001b[38;5;124m/blue/mateescu/agustinchasco/Projects/reprojersey/data/ipykernel_launcher\u001b[39m\u001b[38;5;124m'\u001b[39m, \u001b[38;5;124m'\u001b[39m\u001b[38;5;124mview\u001b[39m\u001b[38;5;124m'\u001b[39m)\n\u001b[1;32m      2\u001b[0m vp\n\u001b[0;32m----> 3\u001b[0m \u001b[43mos\u001b[49m\u001b[38;5;241;43m.\u001b[39;49m\u001b[43mmakedirs\u001b[49m\u001b[43m(\u001b[49m\u001b[43mvp\u001b[49m\u001b[43m)\u001b[49m \n",
      "File \u001b[0;32m<frozen os>:225\u001b[0m, in \u001b[0;36mmakedirs\u001b[0;34m(name, mode, exist_ok)\u001b[0m\n",
      "\u001b[0;31mFileExistsError\u001b[0m: [Errno 17] File exists: '/blue/mateescu/agustinchasco/Projects/reprojersey/data/ipykernel_launcher/view'"
     ]
    }
   ],
   "source": [
    "vp = os.path.join('/blue/mateescu/agustinchasco/Projects/reprojersey/data/ipykernel_launcher', 'view')\n",
    "vp\n",
    "os.makedirs(vp) "
   ]
  },
  {
   "cell_type": "code",
   "execution_count": 36,
   "id": "c0d7d57f-04f1-4335-bbaf-f04d32816cca",
   "metadata": {
    "tags": []
   },
   "outputs": [
    {
     "data": {
      "text/plain": [
       "'/blue/mateescu/agustinchasco/Projects/reprojersey/data/ipykernel_launcher/view/ipykernel_launcher.html'"
      ]
     },
     "execution_count": 36,
     "metadata": {},
     "output_type": "execute_result"
    }
   ],
   "source": [
    "ids = ''\n",
    "fn = init.cn + ids + '.html'\n",
    "fp = os.path.join(vp, fn)\n",
    "fp"
   ]
  },
  {
   "cell_type": "code",
   "execution_count": 51,
   "id": "273bdb57-3c2b-4426-a97c-182c0a5fee72",
   "metadata": {
    "tags": []
   },
   "outputs": [],
   "source": [
    "sdf2.to_html(fp)"
   ]
  }
 ],
 "metadata": {
  "kernelspec": {
   "display_name": "Python 3 (ipykernel)",
   "language": "python",
   "name": "python3"
  },
  "language_info": {
   "codemirror_mode": {
    "name": "ipython",
    "version": 3
   },
   "file_extension": ".py",
   "mimetype": "text/x-python",
   "name": "python",
   "nbconvert_exporter": "python",
   "pygments_lexer": "ipython3",
   "version": "3.11.3"
  }
 },
 "nbformat": 4,
 "nbformat_minor": 5
}
